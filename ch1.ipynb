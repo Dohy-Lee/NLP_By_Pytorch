{
  "nbformat": 4,
  "nbformat_minor": 0,
  "metadata": {
    "colab": {
      "name": "ch1.ipynb",
      "provenance": [],
      "collapsed_sections": [],
      "authorship_tag": "ABX9TyOa250PZjxzVqAc5mInSGQc",
      "include_colab_link": true
    },
    "kernelspec": {
      "name": "python3",
      "display_name": "Python 3"
    },
    "language_info": {
      "name": "python"
    },
    "accelerator": "GPU",
    "gpuClass": "standard"
  },
  "cells": [
    {
      "cell_type": "markdown",
      "metadata": {
        "id": "view-in-github",
        "colab_type": "text"
      },
      "source": [
        "<a href=\"https://colab.research.google.com/github/Dohy-Lee/NLP_by_Pytorch/blob/main/ch1.ipynb\" target=\"_parent\"><img src=\"https://colab.research.google.com/assets/colab-badge.svg\" alt=\"Open In Colab\"/></a>"
      ]
    },
    {
      "cell_type": "code",
      "execution_count": null,
      "metadata": {
        "colab": {
          "base_uri": "https://localhost:8080/",
          "height": 283
        },
        "id": "sM7nFtLa8muY",
        "outputId": "77d85ff5-7bd8-4b25-8e75-7bc4be17070f"
      },
      "outputs": [
        {
          "output_type": "execute_result",
          "data": {
            "text/plain": [
              "<matplotlib.axes._subplots.AxesSubplot at 0x7f4a544c2ed0>"
            ]
          },
          "metadata": {},
          "execution_count": 80
        },
        {
          "output_type": "display_data",
          "data": {
            "text/plain": [
              "<Figure size 432x288 with 1 Axes>"
            ],
            "image/png": "[encoded data removed]"
          },
          "metadata": {
            "needs_background": "light"
          }
        }
      ],
      "source": [
        "#원-핫 벡터 만들기\n",
        "from sklearn.feature_extraction.text import CountVectorizer\n",
        "import seaborn as sns\n",
        "\n",
        "corpus = ['Time flies like an arrow.',\n",
        "          'Fruit flies like a banana.']\n",
        "one_hot_vectorizer = CountVectorizer(binary=True) #binary = True를 지정함으로써 원-핫 인코딩으로 변환, 기본값은 False인데 이러면 단어 등장 횟수를 기록한 TF표현을 만듦, 또한 이 클래스는 한 글자 단어는 무시함.\n",
        "one_hot = one_hot_vectorizer.fit_transform(corpus).toarray()  # toarray를 쓴 이유 : CountVectorizer는 희소 행렬(행렬값 대부분 0)을 반환하기때문에, toarray로 밀집 행렬(행렬값 대부분 0이 아닌 수)로 바꿔 출력\n",
        "vocab = one_hot_vectorizer.get_feature_names()\n",
        "sns.heatmap(one_hot, annot=True,\n",
        "            cbar=False, xticklabels=vocab,\n",
        "            yticklabels=['Sentence 1', 'Sentence 2'])"
      ]
    },
    {
      "cell_type": "code",
      "source": [
        "#역문서 빈도(IDF) : 벡터 표현에서 흔한 토큰의 점수를 낮추고, 드문 토큰의 점수는 높임\n",
        "#TF-IDF 점수 = TF(w)*IDF(W)\n",
        "#TF-IDF 표현 만들기\n",
        "from sklearn.feature_extraction.text import TfidfVectorizer\n",
        "import seaborn as sns\n",
        "\n",
        "tfidf_vectorizer = TfidfVectorizer()\n",
        "tfidf = tfidf_vectorizer.fit_transform(corpus).toarray()\n",
        "sns.heatmap(tfidf, annot=True, cbar=False, xticklabels=vocab,\n",
        "            yticklabels=['Senetence 1', 'Sentence 2'])"
      ],
      "metadata": {
        "colab": {
          "base_uri": "https://localhost:8080/",
          "height": 283
        },
        "id": "9PjiSpru9cH4",
        "outputId": "0a9ef5ed-62db-4013-9da0-08d416ad570e"
      },
      "execution_count": null,
      "outputs": [
        {
          "output_type": "execute_result",
          "data": {
            "text/plain": [
              "<matplotlib.axes._subplots.AxesSubplot at 0x7f4a5444aa50>"
            ]
          },
          "metadata": {},
          "execution_count": 81
        },
        {
          "output_type": "display_data",
          "data": {
            "text/plain": [
              "<Figure size 432x288 with 1 Axes>"
            ],
            "image/png": "[encoded data removed]"
          },
          "metadata": {
            "needs_background": "light"
          }
        }
      ]
    },
    {
      "cell_type": "markdown",
      "source": [
        "$IDF(w) = \\text{log} \\left(\\dfrac{N+1}{N_w+1}\\right)+1$"
      ],
      "metadata": {
        "id": "Lt_ovOgkG-Dc"
      }
    },
    {
      "cell_type": "markdown",
      "source": [
        "첫 번째 문장의 'flies'와 'like'의 경우 TF = 1이므로 $\\text{TF-IDF}=1\\times\\text{log}\\left(\\dfrac{2+1}{2+1}\\right)+1=1$입니다.\n",
        "\n",
        "단어 'an', 'arrow', 'time'의 경우 $N_w=1$입니다. 따라서 $\\text{TF-IDF}=1\\times\\text{log}\\left(\\dfrac{2+1}{1+1}\\right)+1=1.4054651081081644$입니다.\n",
        "\n",
        "L2 정규화를 적용하면 'flies'와 'like'는 $\\dfrac{1}{\\sqrt{2\\times1^2+3\\times1.4054651081081644^2+}}=0.3552$가 됩니다.\n",
        "\n",
        "'an', 'arrow', 'time'는 $\\dfrac{1.4054651081081644}{\\sqrt{2\\times1^2+3\\times1.4054651081081644^2+}}=0.4992$가 됩니다.\n",
        "\n",
        "2를 곱한 것은 tf-idf 1에 해당하는 단어가 2개(files, like)이기 때문임\n",
        "마찬가지로 3은 세 개의 단어(an, arrow, time)를 반영한 것"
      ],
      "metadata": {
        "id": "4LcMrc_hHG7B"
      }
    },
    {
      "cell_type": "code",
      "source": [
        "#기계 번역, 요약, 질의응답 문제에서는 타깃도 텍스트이며 타깃 인코딩으로 원-핫 인코딩과 같은 방식을 사용함\n",
        "#많은 NLP 작업(언어 모델링 등)은 타깃 인코딩으로 범주형 레이블을 사용함\n",
        "#계산 그래프 : 수학식을 추상적으로 모델링한 것\n",
        "#추론(예측) : 단순히 식에 대한 평가(계산 그래프의 정방향 계산)"
      ],
      "metadata": {
        "id": "02R1aDvV_wp3"
      },
      "execution_count": null,
      "outputs": []
    },
    {
      "cell_type": "markdown",
      "source": [
        "## 텐서\n",
        "* 스칼라는 하나의 숫자입니다.\n",
        "* 벡터는 숫자의 배열입니다.\n",
        "* 행렬은 숫자의 2-D 배열입니다.\n",
        "* 텐서는 숫자의 N-D 배열입니다."
      ],
      "metadata": {
        "id": "AQpM_Tm0HL9C"
      }
    },
    {
      "cell_type": "code",
      "source": [
        "#파이토치로 텐서 만들기\n",
        "def describe(x):\n",
        "  print(\"타입: {}\".format(x.type())) #텐서 타입\n",
        "  print(\"크기: {}\".format(x.shape)) #텐서 차원\n",
        "  print(\"값: \\n{}\".format(x)) #값\n",
        "  print('\\n')"
      ],
      "metadata": {
        "id": "_sun8FedFetg"
      },
      "execution_count": null,
      "outputs": []
    },
    {
      "cell_type": "code",
      "source": [
        "import torch\n",
        "describe(torch.Tensor(2,3)) "
      ],
      "metadata": {
        "colab": {
          "base_uri": "https://localhost:8080/"
        },
        "id": "NsQmtALKGJTe",
        "outputId": "b82d8c4f-9cd0-4e9c-c6be-ff46770e7e2f"
      },
      "execution_count": null,
      "outputs": [
        {
          "output_type": "stream",
          "name": "stdout",
          "text": [
            "타입: torch.FloatTensor\n",
            "크기: torch.Size([2, 3])\n",
            "값: \n",
            "tensor([[1.5435e-37, 0.0000e+00, 7.1440e+31],\n",
            "        [7.5876e+31, 1.9178e-19, 1.9205e+31]])\n",
            "\n",
            "\n"
          ]
        }
      ]
    },
    {
      "cell_type": "code",
      "source": [
        "#[0,1) 범위의 균등 분포에서 샘플링한 값으로 랜덤하게 초기화한 텐서를 만들거나\n",
        "#표준 정규 분포에서 텐서를 만들수 있음\n",
        "describe(torch.rand(2,3)) #균등 분포\n",
        "describe(torch.randn(2,3)) #표준 정규 분포"
      ],
      "metadata": {
        "colab": {
          "base_uri": "https://localhost:8080/"
        },
        "id": "7Oj_oVIgHeR1",
        "outputId": "c24b8c8e-b2be-4a8d-bec0-86d33fd4dce4"
      },
      "execution_count": null,
      "outputs": [
        {
          "output_type": "stream",
          "name": "stdout",
          "text": [
            "타입: torch.FloatTensor\n",
            "크기: torch.Size([2, 3])\n",
            "값: \n",
            "tensor([[0.4008, 0.4779, 0.7431],\n",
            "        [0.5056, 0.2483, 0.0783]])\n",
            "\n",
            "\n",
            "타입: torch.FloatTensor\n",
            "크기: torch.Size([2, 3])\n",
            "값: \n",
            "tensor([[-1.3482,  0.0921,  0.4021],\n",
            "        [ 0.5040,  0.6204, -0.3073]])\n",
            "\n",
            "\n"
          ]
        }
      ]
    },
    {
      "cell_type": "code",
      "source": [
        "#내장함수(zeros, ones 등)나 fill_()을 사용하여 동일한 스칼라값으로 채운 텐서를 만들수 있음\n",
        "#_(언더바)가 있는 파이토치 인-플레이스 메서드는 텐서값을 바꾸는 연산을 의미함 → 새로운 객체를 생성하는 것이 아닌, 기존값을 변경하는 것\n",
        "describe(torch.zeros(2,3))\n",
        "x=torch.ones(2,3)\n",
        "describe(x)\n",
        "x.fill_(5)\n",
        "describe(x)"
      ],
      "metadata": {
        "colab": {
          "base_uri": "https://localhost:8080/"
        },
        "id": "xIMKvYH2H_r8",
        "outputId": "3ceae39e-70bd-4469-a63f-4a884850a8dc"
      },
      "execution_count": null,
      "outputs": [
        {
          "output_type": "stream",
          "name": "stdout",
          "text": [
            "타입: torch.FloatTensor\n",
            "크기: torch.Size([2, 3])\n",
            "값: \n",
            "tensor([[0., 0., 0.],\n",
            "        [0., 0., 0.]])\n",
            "\n",
            "\n",
            "타입: torch.FloatTensor\n",
            "크기: torch.Size([2, 3])\n",
            "값: \n",
            "tensor([[1., 1., 1.],\n",
            "        [1., 1., 1.]])\n",
            "\n",
            "\n",
            "타입: torch.FloatTensor\n",
            "크기: torch.Size([2, 3])\n",
            "값: \n",
            "tensor([[5., 5., 5.],\n",
            "        [5., 5., 5.]])\n",
            "\n",
            "\n"
          ]
        }
      ]
    },
    {
      "cell_type": "code",
      "source": [
        "#파이썬 리스트로도 텐서를 만들 수 있음\n",
        "x=torch.Tensor([[1,2,3],\n",
        "                [4,5,6]])\n",
        "describe(x)"
      ],
      "metadata": {
        "colab": {
          "base_uri": "https://localhost:8080/"
        },
        "id": "yGN0V3gdI0Z6",
        "outputId": "3bc110d5-c713-4776-d4fb-3166d507c00e"
      },
      "execution_count": null,
      "outputs": [
        {
          "output_type": "stream",
          "name": "stdout",
          "text": [
            "타입: torch.FloatTensor\n",
            "크기: torch.Size([2, 3])\n",
            "값: \n",
            "tensor([[1., 2., 3.],\n",
            "        [4., 5., 6.]])\n",
            "\n",
            "\n"
          ]
        }
      ]
    },
    {
      "cell_type": "code",
      "source": [
        "#넘파이 배열로도 텐서를 만들 수 있는데, 이때 텐서 타입이 DoubleTensor가 됨\n",
        "import numpy as np\n",
        "npy=np.random.rand(2,3)\n",
        "describe(torch.from_numpy(npy))"
      ],
      "metadata": {
        "colab": {
          "base_uri": "https://localhost:8080/"
        },
        "id": "wueRZyp_JMeW",
        "outputId": "e52fd426-08ff-4a0d-eaac-e4ea716ab1fb"
      },
      "execution_count": null,
      "outputs": [
        {
          "output_type": "stream",
          "name": "stdout",
          "text": [
            "타입: torch.DoubleTensor\n",
            "크기: torch.Size([2, 3])\n",
            "값: \n",
            "tensor([[0.4939, 0.5145, 0.3823],\n",
            "        [0.2367, 0.9005, 0.1252]], dtype=torch.float64)\n",
            "\n",
            "\n"
          ]
        }
      ]
    },
    {
      "cell_type": "code",
      "source": [
        "#텐서 타입은 초기화할 때 지정하거나 타입 캐스팅 메서드를 사용해 변경가능\n",
        "#초기화할 때 타입을 지정하는 방법은 두 가지\n",
        "#1.FloatTensor, LongTensor등 특정 텐서 타입의 생성자를 직접 호출\n",
        "#2.torch.tensor()메서드와 dtype 매개변수를 사용하는 방법\n",
        "x=torch.FloatTensor([[1,2,3],\n",
        "                     [4,5,6]])\n",
        "describe(x)\n",
        "x=x.long()\n",
        "describe(x)\n",
        "x=torch.tensor([[1,2,3],\n",
        "                [4,5,6]], dtype=torch.int64) #int64는 LongTensor에 해당\n",
        "describe(x)\n",
        "x=x.float()\n",
        "describe(x)"
      ],
      "metadata": {
        "colab": {
          "base_uri": "https://localhost:8080/"
        },
        "id": "nXK66Y0AJc8B",
        "outputId": "d774a0c4-ab1f-4ee8-c2f9-9060cce0ba49"
      },
      "execution_count": null,
      "outputs": [
        {
          "output_type": "stream",
          "name": "stdout",
          "text": [
            "타입: torch.FloatTensor\n",
            "크기: torch.Size([2, 3])\n",
            "값: \n",
            "tensor([[1., 2., 3.],\n",
            "        [4., 5., 6.]])\n",
            "\n",
            "\n",
            "타입: torch.LongTensor\n",
            "크기: torch.Size([2, 3])\n",
            "값: \n",
            "tensor([[1, 2, 3],\n",
            "        [4, 5, 6]])\n",
            "\n",
            "\n",
            "타입: torch.LongTensor\n",
            "크기: torch.Size([2, 3])\n",
            "값: \n",
            "tensor([[1, 2, 3],\n",
            "        [4, 5, 6]])\n",
            "\n",
            "\n",
            "타입: torch.FloatTensor\n",
            "크기: torch.Size([2, 3])\n",
            "값: \n",
            "tensor([[1., 2., 3.],\n",
            "        [4., 5., 6.]])\n",
            "\n",
            "\n"
          ]
        }
      ]
    },
    {
      "cell_type": "markdown",
      "source": [
        "##텐서 연산"
      ],
      "metadata": {
        "id": "zWT4xWy_LJuZ"
      }
    },
    {
      "cell_type": "code",
      "source": [
        "x=torch.randn(2,3)\n",
        "describe(x)\n",
        "describe(torch.add(x,x))\n",
        "describe(x+x)"
      ],
      "metadata": {
        "colab": {
          "base_uri": "https://localhost:8080/"
        },
        "id": "V97ujKDjKUQZ",
        "outputId": "fb0d1204-008c-4fc4-ace7-e2602af7f8a8"
      },
      "execution_count": null,
      "outputs": [
        {
          "output_type": "stream",
          "name": "stdout",
          "text": [
            "타입: torch.FloatTensor\n",
            "크기: torch.Size([2, 3])\n",
            "값: \n",
            "tensor([[-0.4015, -1.0402,  0.4281],\n",
            "        [-0.4237, -0.6376,  0.8055]])\n",
            "\n",
            "\n",
            "타입: torch.FloatTensor\n",
            "크기: torch.Size([2, 3])\n",
            "값: \n",
            "tensor([[-0.8030, -2.0804,  0.8563],\n",
            "        [-0.8473, -1.2752,  1.6110]])\n",
            "\n",
            "\n",
            "타입: torch.FloatTensor\n",
            "크기: torch.Size([2, 3])\n",
            "값: \n",
            "tensor([[-0.8030, -2.0804,  0.8563],\n",
            "        [-0.8473, -1.2752,  1.6110]])\n",
            "\n",
            "\n"
          ]
        }
      ]
    },
    {
      "cell_type": "code",
      "source": [
        "x=torch.arange(6) #arange 파라미터 - start:시작값, end:멈추는 값, step:증가 폭 \n",
        "describe(x)\n",
        "x=x.view(2,3) #view : 동일한 데이터를 \"공유\"하는 새로운 텐서를 만듦. → 텐서의 data_ptr()메소드로 확인 가능\n",
        "describe(x)\n",
        "describe(torch.sum(x,dim=0)) #행을 차원 0으로 표현, 행을 따라 덧셈\n",
        "describe(torch.sum(x,dim=1)) #열을 차원 1로 표현, 열을 따라 덧셈\n",
        "describe(torch.transpose(x,0,1)) #transpose : 두, 세 번째 매개변수로 전달된 차원을 전치한 텐서를 만듦"
      ],
      "metadata": {
        "colab": {
          "base_uri": "https://localhost:8080/"
        },
        "id": "g2IY3ojALVGb",
        "outputId": "50ed52cb-161d-4760-f349-1509436293c3"
      },
      "execution_count": null,
      "outputs": [
        {
          "output_type": "stream",
          "name": "stdout",
          "text": [
            "타입: torch.LongTensor\n",
            "크기: torch.Size([6])\n",
            "값: \n",
            "tensor([0, 1, 2, 3, 4, 5])\n",
            "\n",
            "\n",
            "타입: torch.LongTensor\n",
            "크기: torch.Size([2, 3])\n",
            "값: \n",
            "tensor([[0, 1, 2],\n",
            "        [3, 4, 5]])\n",
            "\n",
            "\n",
            "타입: torch.LongTensor\n",
            "크기: torch.Size([3])\n",
            "값: \n",
            "tensor([3, 5, 7])\n",
            "\n",
            "\n",
            "타입: torch.LongTensor\n",
            "크기: torch.Size([2])\n",
            "값: \n",
            "tensor([ 3, 12])\n",
            "\n",
            "\n",
            "타입: torch.LongTensor\n",
            "크기: torch.Size([3, 2])\n",
            "값: \n",
            "tensor([[0, 3],\n",
            "        [1, 4],\n",
            "        [2, 5]])\n",
            "\n",
            "\n"
          ]
        }
      ]
    },
    {
      "cell_type": "markdown",
      "source": [
        "## 텐서 인덱싱, 슬라이싱, 연결"
      ],
      "metadata": {
        "id": "wK_cfMmQCTPu"
      }
    },
    {
      "cell_type": "code",
      "source": [
        "x=torch.arange(6).view(2,3)\n",
        "describe(x)\n",
        "describe(x[:1,:2])\n",
        "describe(x[0,1])"
      ],
      "metadata": {
        "colab": {
          "base_uri": "https://localhost:8080/"
        },
        "id": "Q9OeHJs-LcDk",
        "outputId": "b036196c-216b-4b38-b785-b9e6880a38d8"
      },
      "execution_count": null,
      "outputs": [
        {
          "output_type": "stream",
          "name": "stdout",
          "text": [
            "타입: torch.LongTensor\n",
            "크기: torch.Size([2, 3])\n",
            "값: \n",
            "tensor([[0, 1, 2],\n",
            "        [3, 4, 5]])\n",
            "\n",
            "\n",
            "타입: torch.LongTensor\n",
            "크기: torch.Size([1, 2])\n",
            "값: \n",
            "tensor([[0, 1]])\n",
            "\n",
            "\n",
            "타입: torch.LongTensor\n",
            "크기: torch.Size([])\n",
            "값: \n",
            "1\n",
            "\n",
            "\n"
          ]
        }
      ]
    },
    {
      "cell_type": "code",
      "source": [
        "#연속적이지 않은 텐서 인덱스 참조하기\n",
        "#index_select()가 반환하는 텐서는 dim 매개변수에 지정한 차원의 크기가 index에 지정한 텐서의 길이와 같음.\n",
        "#나머지 차원은 원본 텐서와 크기가 같음\n",
        "#인덱스는 LongTensor로 지정해줘야함.\n",
        "describe(x)\n",
        "\n",
        "indices = torch.LongTensor([0,2])\n",
        "describe(indices)\n",
        "describe(torch.index_select(x, dim=1, index=indices))\n",
        "\n",
        "indices = torch.LongTensor([0,0])\n",
        "describe(indices)\n",
        "describe(torch.index_select(x, dim=0, index=indices))\n",
        "\n",
        "row_indices = torch.arange(2).long()\n",
        "col_indices = torch.LongTensor([0,1])\n",
        "describe(x[row_indices, col_indices]) #(0,0)과 (1,1) 인덱스에 해당하는 값이 나옴"
      ],
      "metadata": {
        "colab": {
          "base_uri": "https://localhost:8080/"
        },
        "id": "rhgNZYivS3ei",
        "outputId": "8470ec6c-6ba6-4504-9fb0-4c1c6bb48cbd"
      },
      "execution_count": null,
      "outputs": [
        {
          "output_type": "stream",
          "name": "stdout",
          "text": [
            "타입: torch.LongTensor\n",
            "크기: torch.Size([2, 3])\n",
            "값: \n",
            "tensor([[0, 1, 2],\n",
            "        [3, 4, 5]])\n",
            "\n",
            "\n",
            "타입: torch.LongTensor\n",
            "크기: torch.Size([2])\n",
            "값: \n",
            "tensor([0, 2])\n",
            "\n",
            "\n",
            "타입: torch.LongTensor\n",
            "크기: torch.Size([2, 2])\n",
            "값: \n",
            "tensor([[0, 2],\n",
            "        [3, 5]])\n",
            "\n",
            "\n",
            "타입: torch.LongTensor\n",
            "크기: torch.Size([2])\n",
            "값: \n",
            "tensor([0, 0])\n",
            "\n",
            "\n",
            "타입: torch.LongTensor\n",
            "크기: torch.Size([2, 3])\n",
            "값: \n",
            "tensor([[0, 1, 2],\n",
            "        [0, 1, 2]])\n",
            "\n",
            "\n",
            "타입: torch.LongTensor\n",
            "크기: torch.Size([2])\n",
            "값: \n",
            "tensor([0, 4])\n",
            "\n",
            "\n"
          ]
        }
      ]
    },
    {
      "cell_type": "code",
      "source": [
        "x = torch.arange(6).view(2,3)\n",
        "describe(x)\n",
        "#cat : 주어진 차원을 기준으로 주어진 텐서들을 붙임\n",
        "#stack : 새로운 차원으로 주어진 텐서들을 붙임\n",
        "describe(torch.cat([x,x],dim=0)) #행으로 잇기\n",
        "describe(torch.cat([x,x],dim=1)) #열로 잇기\n",
        "describe(torch.stack([x,x])) #(2,3,4)의 크기를 갖는 텐서"
      ],
      "metadata": {
        "id": "OON590Y6S4xu",
        "colab": {
          "base_uri": "https://localhost:8080/"
        },
        "outputId": "b0e3cf2b-6f26-4024-d5d0-634659e66cac"
      },
      "execution_count": null,
      "outputs": [
        {
          "output_type": "stream",
          "name": "stdout",
          "text": [
            "타입: torch.LongTensor\n",
            "크기: torch.Size([2, 3])\n",
            "값: \n",
            "tensor([[0, 1, 2],\n",
            "        [3, 4, 5]])\n",
            "\n",
            "\n",
            "타입: torch.LongTensor\n",
            "크기: torch.Size([4, 3])\n",
            "값: \n",
            "tensor([[0, 1, 2],\n",
            "        [3, 4, 5],\n",
            "        [0, 1, 2],\n",
            "        [3, 4, 5]])\n",
            "\n",
            "\n",
            "타입: torch.LongTensor\n",
            "크기: torch.Size([2, 6])\n",
            "값: \n",
            "tensor([[0, 1, 2, 0, 1, 2],\n",
            "        [3, 4, 5, 3, 4, 5]])\n",
            "\n",
            "\n",
            "타입: torch.LongTensor\n",
            "크기: torch.Size([2, 2, 3])\n",
            "값: \n",
            "tensor([[[0, 1, 2],\n",
            "         [3, 4, 5]],\n",
            "\n",
            "        [[0, 1, 2],\n",
            "         [3, 4, 5]]])\n",
            "\n",
            "\n"
          ]
        }
      ]
    },
    {
      "cell_type": "code",
      "source": [
        "x1 = torch.arange(6).view(2,3).float()\n",
        "describe(x1)\n",
        "\n",
        "x2=torch.ones(3,2)\n",
        "x2[:,1]+=1\n",
        "describe(x2)\n",
        "\n",
        "describe(torch.mm(x1,x2)) #행렬 곱셈"
      ],
      "metadata": {
        "colab": {
          "base_uri": "https://localhost:8080/"
        },
        "id": "ZgT7DM8YDFl5",
        "outputId": "28ff271d-dbff-488c-d27a-1437462e74fc"
      },
      "execution_count": null,
      "outputs": [
        {
          "output_type": "stream",
          "name": "stdout",
          "text": [
            "타입: torch.FloatTensor\n",
            "크기: torch.Size([2, 3])\n",
            "값: \n",
            "tensor([[0., 1., 2.],\n",
            "        [3., 4., 5.]])\n",
            "\n",
            "\n",
            "타입: torch.FloatTensor\n",
            "크기: torch.Size([3, 2])\n",
            "값: \n",
            "tensor([[1., 2.],\n",
            "        [1., 2.],\n",
            "        [1., 2.]])\n",
            "\n",
            "\n",
            "타입: torch.FloatTensor\n",
            "크기: torch.Size([2, 2])\n",
            "값: \n",
            "tensor([[ 3.,  6.],\n",
            "        [12., 24.]])\n",
            "\n",
            "\n"
          ]
        }
      ]
    },
    {
      "cell_type": "markdown",
      "source": [
        "## 텐서와 계산 그래프"
      ],
      "metadata": {
        "id": "nqBWqj8CEpoX"
      }
    },
    {
      "cell_type": "code",
      "source": [
        "x = torch.ones(2,2, requires_grad=True) # requires_grad=True : 그레이디언트 기반 학습에 필요한 손실함수와 텐서의 그레이디언트를 기록하는 부가적인 연산 활성화\n",
        "                                        # 먼저 정방향 계산의 값을 기록한 후, 스칼라값 하나를 사용하여 역방향 계산 수행\n",
        "describe(x)\n",
        "print(x.grad is None)\n",
        "\n",
        "y = (x+2) * (x+5) +3\n",
        "describe(y)\n",
        "\n",
        "z = y.mean()\n",
        "describe(z)\n",
        "z.backward() #역방향 계산 : 손실 함수의 평가 결과로 얻은 텐서에서 backward 메서드를 호출하여 시작함.\n",
        "print(x.grad is None)\n",
        "#일반적인 그레이디언트 : 함수 입력에 대한 함수 출력의 기울기\n",
        "#계산 그래프에서의 그레이디언트 : 모델의 파라미터마다 존재하고 오류 신호에 대한 파라미터의 기여"
      ],
      "metadata": {
        "colab": {
          "base_uri": "https://localhost:8080/"
        },
        "id": "hp74pYifEGWU",
        "outputId": "1889c531-7bcb-485c-dcb1-2018c5f541e8"
      },
      "execution_count": null,
      "outputs": [
        {
          "output_type": "stream",
          "name": "stdout",
          "text": [
            "타입: torch.FloatTensor\n",
            "크기: torch.Size([2, 2])\n",
            "값: \n",
            "tensor([[1., 1.],\n",
            "        [1., 1.]], requires_grad=True)\n",
            "\n",
            "\n",
            "True\n",
            "타입: torch.FloatTensor\n",
            "크기: torch.Size([2, 2])\n",
            "값: \n",
            "tensor([[21., 21.],\n",
            "        [21., 21.]], grad_fn=<AddBackward0>)\n",
            "\n",
            "\n",
            "타입: torch.FloatTensor\n",
            "크기: torch.Size([])\n",
            "값: \n",
            "21.0\n",
            "\n",
            "\n",
            "False\n"
          ]
        }
      ]
    },
    {
      "cell_type": "markdown",
      "source": [
        "## CUDA 텐서\n",
        "### CUDA객체와 CUDA가 아닌 객체를 다루기 위해선 두 객체가 같은 장치에 있는지 확인해야 함."
      ],
      "metadata": {
        "id": "ot_74u8qGrh3"
      }
    },
    {
      "cell_type": "code",
      "source": [
        "print(torch.cuda.is_available())"
      ],
      "metadata": {
        "colab": {
          "base_uri": "https://localhost:8080/"
        },
        "id": "KXv_lHDJFJd1",
        "outputId": "470ea8e8-b608-47f9-877d-2ed60055a409"
      },
      "execution_count": null,
      "outputs": [
        {
          "output_type": "stream",
          "name": "stdout",
          "text": [
            "True\n"
          ]
        }
      ]
    },
    {
      "cell_type": "code",
      "source": [
        "# 바람직한 방법 : 장치에 무관한 텐서 초기화\n",
        "device = torch.device(\"cuda\" if torch.cuda.is_available() else \"cpu\")\n",
        "print(device) \n",
        "x=torch.rand(3,3).to(device)\n",
        "describe(x)"
      ],
      "metadata": {
        "colab": {
          "base_uri": "https://localhost:8080/"
        },
        "id": "xj851O4gG-v9",
        "outputId": "3002f416-6840-4a9d-b712-4df677bfc5ab"
      },
      "execution_count": null,
      "outputs": [
        {
          "output_type": "stream",
          "name": "stdout",
          "text": [
            "cuda\n",
            "타입: torch.cuda.FloatTensor\n",
            "크기: torch.Size([3, 3])\n",
            "값: \n",
            "tensor([[0.9189, 0.2120, 0.5322],\n",
            "        [0.1465, 0.5814, 0.9222],\n",
            "        [0.7327, 0.1111, 0.1888]], device='cuda:0')\n",
            "\n",
            "\n"
          ]
        }
      ]
    },
    {
      "cell_type": "code",
      "source": [
        "y=torch.rand(3,3)\n",
        "x+y"
      ],
      "metadata": {
        "colab": {
          "base_uri": "https://localhost:8080/",
          "height": 193
        },
        "id": "5JMlZbV5HXhA",
        "outputId": "14882c82-1d10-469c-f31d-66e8b42ae951"
      },
      "execution_count": null,
      "outputs": [
        {
          "output_type": "error",
          "ename": "RuntimeError",
          "evalue": "ignored",
          "traceback": [
            "\u001b[0;31m---------------------------------------------------------------------------\u001b[0m",
            "\u001b[0;31mRuntimeError\u001b[0m                              Traceback (most recent call last)",
            "\u001b[0;32m<ipython-input-99-c65edc13fc03>\u001b[0m in \u001b[0;36m<module>\u001b[0;34m\u001b[0m\n\u001b[1;32m      1\u001b[0m \u001b[0my\u001b[0m\u001b[0;34m=\u001b[0m\u001b[0mtorch\u001b[0m\u001b[0;34m.\u001b[0m\u001b[0mrand\u001b[0m\u001b[0;34m(\u001b[0m\u001b[0;36m3\u001b[0m\u001b[0;34m,\u001b[0m\u001b[0;36m3\u001b[0m\u001b[0;34m)\u001b[0m\u001b[0;34m\u001b[0m\u001b[0;34m\u001b[0m\u001b[0m\n\u001b[0;32m----> 2\u001b[0;31m \u001b[0mx\u001b[0m\u001b[0;34m+\u001b[0m\u001b[0my\u001b[0m\u001b[0;34m\u001b[0m\u001b[0;34m\u001b[0m\u001b[0m\n\u001b[0m",
            "\u001b[0;31mRuntimeError\u001b[0m: Expected all tensors to be on the same device, but found at least two devices, cuda:0 and cpu!"
          ]
        }
      ]
    },
    {
      "cell_type": "code",
      "source": [
        "cpu_device = torch.device('cpu')\n",
        "y=y.to(cpu_device)\n",
        "x=x.to(cpu_device)\n",
        "x+y"
      ],
      "metadata": {
        "colab": {
          "base_uri": "https://localhost:8080/"
        },
        "id": "d1dVU-ocHvY6",
        "outputId": "11fa68f9-269d-4fcd-fdcf-fa42b5371327"
      },
      "execution_count": null,
      "outputs": [
        {
          "output_type": "execute_result",
          "data": {
            "text/plain": [
              "tensor([[1.5044, 0.8020, 1.0207],\n",
              "        [0.5698, 0.6986, 1.8552],\n",
              "        [1.4027, 0.4571, 1.1311]])"
            ]
          },
          "metadata": {},
          "execution_count": 100
        }
      ]
    },
    {
      "cell_type": "markdown",
      "source": [
        "P1)2D 텐서를 만들고 차원 0 위치에 크기가 1인 차원 추가"
      ],
      "metadata": {
        "id": "dvd708U-IJJQ"
      }
    },
    {
      "cell_type": "code",
      "source": [
        "x=torch.rand(3,3)\n",
        "x.unsqueeze(0) #unsqueeze : 크기가 1인 차원 추가, 음수 인덱스를 받을 수 있으므로 unsqueeze(-3)도 같은 결과가 나옴"
      ],
      "metadata": {
        "id": "FBHJzMf5IAKU",
        "colab": {
          "base_uri": "https://localhost:8080/"
        },
        "outputId": "3bafbdb2-8e6e-4224-b3d9-e7a11a4b5d54"
      },
      "execution_count": null,
      "outputs": [
        {
          "output_type": "execute_result",
          "data": {
            "text/plain": [
              "tensor([[[0.3502, 0.3428, 0.3454],\n",
              "         [0.3638, 0.9103, 0.1263],\n",
              "         [0.6058, 0.6536, 0.2490]]])"
            ]
          },
          "metadata": {},
          "execution_count": 101
        }
      ]
    },
    {
      "cell_type": "markdown",
      "source": [
        "P2)이전 텐서에 추가한 차원 삭제"
      ],
      "metadata": {
        "id": "USrnlzyUIPds"
      }
    },
    {
      "cell_type": "code",
      "source": [
        "x.squeeze(dim=0) #squeeze : 크기가 1인 차원 삭제. 삭제할 차원을 지정하지 않으면 크기가 1인 모든 차원 제거"
      ],
      "metadata": {
        "id": "3c8lIwFDITJm",
        "colab": {
          "base_uri": "https://localhost:8080/"
        },
        "outputId": "b0a0181a-8dd5-402c-ca1d-cf03329ba75d"
      },
      "execution_count": null,
      "outputs": [
        {
          "output_type": "execute_result",
          "data": {
            "text/plain": [
              "tensor([[0.3502, 0.3428, 0.3454],\n",
              "        [0.3638, 0.9103, 0.1263],\n",
              "        [0.6058, 0.6536, 0.2490]])"
            ]
          },
          "metadata": {},
          "execution_count": 102
        }
      ]
    },
    {
      "cell_type": "markdown",
      "source": [
        "P3)범위가 [3,7)이고 크기가 5x3인 랜덤한 텐서 "
      ],
      "metadata": {
        "id": "A0xF-S3NIThy"
      }
    },
    {
      "cell_type": "code",
      "source": [
        "3+torch.rand(5,3) *(7-3)"
      ],
      "metadata": {
        "id": "GQG8eQ1DITaA",
        "colab": {
          "base_uri": "https://localhost:8080/"
        },
        "outputId": "b0eae6c9-1018-4c77-cd80-83343e48380a"
      },
      "execution_count": null,
      "outputs": [
        {
          "output_type": "execute_result",
          "data": {
            "text/plain": [
              "tensor([[5.5682, 6.3735, 5.5670],\n",
              "        [4.9745, 5.4799, 3.0685],\n",
              "        [5.7071, 3.5067, 4.7823],\n",
              "        [4.3933, 4.6356, 6.8011],\n",
              "        [3.9976, 3.1754, 6.2412]])"
            ]
          },
          "metadata": {},
          "execution_count": 103
        }
      ]
    },
    {
      "cell_type": "markdown",
      "source": [
        "P4) 정규분포를 사용해 텐서 생성"
      ],
      "metadata": {
        "id": "t39jqtZvIYWa"
      }
    },
    {
      "cell_type": "code",
      "source": [
        "x=torch.rand(3,3)\n",
        "x.normal_()"
      ],
      "metadata": {
        "id": "izULEBlyIY1j",
        "colab": {
          "base_uri": "https://localhost:8080/"
        },
        "outputId": "5df9cb9a-4e7b-4cca-c7f6-ad509090f9ae"
      },
      "execution_count": null,
      "outputs": [
        {
          "output_type": "execute_result",
          "data": {
            "text/plain": [
              "tensor([[-0.3730, -0.9552,  1.4963],\n",
              "        [-1.2140, -2.0015, -0.4834],\n",
              "        [ 1.7626, -0.5563, -0.2450]])"
            ]
          },
          "metadata": {},
          "execution_count": 104
        }
      ]
    },
    {
      "cell_type": "markdown",
      "source": [
        "P5) 텐서 torch.Tensor([1,1,1,0,1])에서 0이 아닌 원소의 인덱스를 추출"
      ],
      "metadata": {
        "id": "lQ5hH4_kIdA3"
      }
    },
    {
      "cell_type": "code",
      "source": [
        "x=torch.Tensor([1,1,1,0,1])\n",
        "torch.nonzero(x) #nonzero : 0이 아닌 값의 인덱스를 각 행에 담은 2차원 텐서 반환. as_tuple = True로 지정하면 1차원 텐서로 반환. \n",
        "                 #count_nonzero : 0이 아닌 값의 개수 계산"
      ],
      "metadata": {
        "id": "PGhLrNV6IkO2",
        "colab": {
          "base_uri": "https://localhost:8080/"
        },
        "outputId": "893ff5de-bc8b-46c9-9eef-3342cb64ff27"
      },
      "execution_count": null,
      "outputs": [
        {
          "output_type": "execute_result",
          "data": {
            "text/plain": [
              "tensor([[0],\n",
              "        [1],\n",
              "        [2],\n",
              "        [4]])"
            ]
          },
          "metadata": {},
          "execution_count": 105
        }
      ]
    },
    {
      "cell_type": "markdown",
      "source": [
        "P6) 크기가 (3,1)인 랜덤한 텐서를 만들고 4개를 복사해 쌓기"
      ],
      "metadata": {
        "id": "HMhaWTrVIkkN"
      }
    },
    {
      "cell_type": "code",
      "source": [
        "x=torch.rand(3,1)\n",
        "x.expand(3,4) #expand : 크기가 1인 차원을 지정한 크기로 늘림. 뷰 텐서로 반환함 → 늘어난 영역이 새로운 메모리 공간을 점유하지 않음\n",
        "              #         바꾸지 않을 차원을 -1로 지정할 수 있음. 여기선 a.expand(-1,4)로 지정 가능"
      ],
      "metadata": {
        "id": "ikbfUKmgIk3Z",
        "colab": {
          "base_uri": "https://localhost:8080/"
        },
        "outputId": "f7e79f26-f13b-4280-c8b0-2f042f111333"
      },
      "execution_count": null,
      "outputs": [
        {
          "output_type": "execute_result",
          "data": {
            "text/plain": [
              "tensor([[0.9443, 0.9443, 0.9443, 0.9443],\n",
              "        [0.8128, 0.8128, 0.8128, 0.8128],\n",
              "        [0.0335, 0.0335, 0.0335, 0.0335]])"
            ]
          },
          "metadata": {},
          "execution_count": 106
        }
      ]
    },
    {
      "cell_type": "markdown",
      "source": [
        "P7) 2차원 행렬 두 개(a=torch.rand(3,4,5), b=torch.rand(3,5,4))의 배치 행렬 곱셈 계산"
      ],
      "metadata": {
        "id": "NfUF_9ymIlEx"
      }
    },
    {
      "cell_type": "code",
      "source": [
        "a=torch.rand(3,4,5)\n",
        "b=torch.rand(3,5,4)\n",
        "torch.bmm(a,b) #bmm(Batch Matrix-Matrix product) : 배치 행렬 곱셈은 첫 번째 차원을 배치 차원으로 인식하는 행렬 곱셈. 따라서 b*n*m 크기의 텐서와 b*m*p 크기 텐서를 곱하면 b*n*p 크기 텐서가 출력. 이 떄 두 텐서의 배치 차원크기가 같아야함"
      ],
      "metadata": {
        "id": "Z9Blq99UIlZD",
        "colab": {
          "base_uri": "https://localhost:8080/"
        },
        "outputId": "9dc56cd7-9066-447c-ca59-760b9f290985"
      },
      "execution_count": null,
      "outputs": [
        {
          "output_type": "execute_result",
          "data": {
            "text/plain": [
              "tensor([[[0.6927, 1.5565, 1.2980, 1.8573],\n",
              "         [0.9061, 1.3830, 1.1269, 1.5315],\n",
              "         [0.9251, 1.6644, 1.0126, 1.4411],\n",
              "         [0.3907, 0.7385, 0.6332, 0.9443]],\n",
              "\n",
              "        [[1.0041, 0.9067, 0.8729, 1.3479],\n",
              "         [0.8141, 0.9375, 0.7659, 0.9510],\n",
              "         [1.0979, 0.9579, 0.8557, 1.4045],\n",
              "         [0.7568, 1.3039, 1.4217, 1.2427]],\n",
              "\n",
              "        [[1.5669, 2.1233, 1.4729, 1.8444],\n",
              "         [1.2078, 2.0836, 1.4651, 1.6975],\n",
              "         [1.1302, 1.4779, 1.2027, 1.4915],\n",
              "         [0.5544, 1.5013, 0.6812, 0.7656]]])"
            ]
          },
          "metadata": {},
          "execution_count": 107
        }
      ]
    },
    {
      "cell_type": "markdown",
      "source": [
        "P8) 3차원 행렬(a=torch.rand(3,4,5))과 2차원 행렬(b=torch.rand(5,4))의 배치 행렬 곱셈을 계산"
      ],
      "metadata": {
        "id": "T-wKOGBBIlpq"
      }
    },
    {
      "cell_type": "code",
      "source": [
        "a=torch.rand(3,4,5)\n",
        "b=torch.rand(5,4)\n",
        "torch.bmm(a, b.unsqueeze(0).expand(a.size(0), *b.size())) #텐서 b의 차원 크기를 a와 맞춤"
      ],
      "metadata": {
        "colab": {
          "base_uri": "https://localhost:8080/"
        },
        "id": "6xH8tYihVzTe",
        "outputId": "d596eaa4-d3d4-4001-9f98-1f05f52d721c"
      },
      "execution_count": null,
      "outputs": [
        {
          "output_type": "execute_result",
          "data": {
            "text/plain": [
              "tensor([[[1.8085, 1.0748, 1.2418, 0.8356],\n",
              "         [1.6533, 0.8712, 1.2260, 1.2421],\n",
              "         [2.1001, 1.2660, 1.3207, 0.9103],\n",
              "         [2.5051, 1.5184, 1.6356, 1.2419]],\n",
              "\n",
              "        [[1.3584, 0.6966, 0.9758, 0.9228],\n",
              "         [2.1077, 0.9885, 1.4653, 1.5626],\n",
              "         [2.0508, 1.3471, 1.4355, 0.8200],\n",
              "         [2.2421, 1.4233, 1.3542, 1.1109]],\n",
              "\n",
              "        [[1.7512, 1.1092, 1.1027, 0.6481],\n",
              "         [1.1685, 0.5608, 0.7582, 0.8905],\n",
              "         [2.1019, 1.1858, 1.2882, 1.3059],\n",
              "         [1.7538, 1.0337, 1.0302, 0.9896]]])"
            ]
          },
          "metadata": {},
          "execution_count": 108
        }
      ]
    },
    {
      "cell_type": "code",
      "source": [
        "torch.matmul(a,b)"
      ],
      "metadata": {
        "colab": {
          "base_uri": "https://localhost:8080/"
        },
        "id": "YTQFJwj8Zk59",
        "outputId": "62eb96ad-da94-45aa-b9db-bde64ea60537"
      },
      "execution_count": null,
      "outputs": [
        {
          "output_type": "execute_result",
          "data": {
            "text/plain": [
              "tensor([[[1.8085, 1.0748, 1.2418, 0.8356],\n",
              "         [1.6533, 0.8712, 1.2260, 1.2421],\n",
              "         [2.1001, 1.2660, 1.3207, 0.9103],\n",
              "         [2.5051, 1.5184, 1.6356, 1.2419]],\n",
              "\n",
              "        [[1.3584, 0.6966, 0.9758, 0.9228],\n",
              "         [2.1077, 0.9885, 1.4653, 1.5626],\n",
              "         [2.0508, 1.3471, 1.4355, 0.8200],\n",
              "         [2.2421, 1.4233, 1.3542, 1.1109]],\n",
              "\n",
              "        [[1.7512, 1.1092, 1.1027, 0.6481],\n",
              "         [1.1685, 0.5608, 0.7582, 0.8905],\n",
              "         [2.1019, 1.1858, 1.2882, 1.3059],\n",
              "         [1.7538, 1.0337, 1.0302, 0.9896]]])"
            ]
          },
          "metadata": {},
          "execution_count": 109
        }
      ]
    }
  ]
}