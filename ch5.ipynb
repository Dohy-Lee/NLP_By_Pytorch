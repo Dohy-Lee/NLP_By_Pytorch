{
  "nbformat": 4,
  "nbformat_minor": 0,
  "metadata": {
    "colab": {
      "provenance": [],
      "collapsed_sections": [],
      "authorship_tag": "ABX9TyMqbYXOzwDnH6tPIFF4jltj",
      "include_colab_link": true
    },
    "kernelspec": {
      "name": "python3",
      "display_name": "Python 3"
    },
    "language_info": {
      "name": "python"
    },
    "widgets": {
      "application/vnd.jupyter.widget-state+json": {
        "5bc365fa1679496999de9c91e6d4cf3c": {
          "model_module": "@jupyter-widgets/controls",
          "model_name": "HBoxModel",
          "model_module_version": "1.5.0",
          "state": {
            "_dom_classes": [],
            "_model_module": "@jupyter-widgets/controls",
            "_model_module_version": "1.5.0",
            "_model_name": "HBoxModel",
            "_view_count": null,
            "_view_module": "@jupyter-widgets/controls",
            "_view_module_version": "1.5.0",
            "_view_name": "HBoxView",
            "box_style": "",
            "children": [
              "IPY_MODEL_28b208d02fc34e049250e9b00f0fcc19",
              "IPY_MODEL_7e9c1cb844094cf5a5c3e94197db6cfc",
              "IPY_MODEL_29a9e20ebcfd45babdfeaa61b6733dc6"
            ],
            "layout": "IPY_MODEL_d333dd3f3c8a4437b2d3f8a43005bdcb"
          }
        },
        "28b208d02fc34e049250e9b00f0fcc19": {
          "model_module": "@jupyter-widgets/controls",
          "model_name": "HTMLModel",
          "model_module_version": "1.5.0",
          "state": {
            "_dom_classes": [],
            "_model_module": "@jupyter-widgets/controls",
            "_model_module_version": "1.5.0",
            "_model_name": "HTMLModel",
            "_view_count": null,
            "_view_module": "@jupyter-widgets/controls",
            "_view_module_version": "1.5.0",
            "_view_name": "HTMLView",
            "description": "",
            "description_tooltip": null,
            "layout": "IPY_MODEL_547925ba55a34ae89a1c243bae5bf1af",
            "placeholder": "​",
            "style": "IPY_MODEL_f7bfd4b42f524d5d9ceb9bee7df261b1",
            "value": "training routine: 100%"
          }
        },
        "7e9c1cb844094cf5a5c3e94197db6cfc": {
          "model_module": "@jupyter-widgets/controls",
          "model_name": "FloatProgressModel",
          "model_module_version": "1.5.0",
          "state": {
            "_dom_classes": [],
            "_model_module": "@jupyter-widgets/controls",
            "_model_module_version": "1.5.0",
            "_model_name": "FloatProgressModel",
            "_view_count": null,
            "_view_module": "@jupyter-widgets/controls",
            "_view_module_version": "1.5.0",
            "_view_name": "ProgressView",
            "bar_style": "",
            "description": "",
            "description_tooltip": null,
            "layout": "IPY_MODEL_e300732183874a9793ce97247b1660af",
            "max": 100,
            "min": 0,
            "orientation": "horizontal",
            "style": "IPY_MODEL_b9aa623a82ff49bdb12c7fa1252ef570",
            "value": 100
          }
        },
        "29a9e20ebcfd45babdfeaa61b6733dc6": {
          "model_module": "@jupyter-widgets/controls",
          "model_name": "HTMLModel",
          "model_module_version": "1.5.0",
          "state": {
            "_dom_classes": [],
            "_model_module": "@jupyter-widgets/controls",
            "_model_module_version": "1.5.0",
            "_model_name": "HTMLModel",
            "_view_count": null,
            "_view_module": "@jupyter-widgets/controls",
            "_view_module_version": "1.5.0",
            "_view_name": "HTMLView",
            "description": "",
            "description_tooltip": null,
            "layout": "IPY_MODEL_8b2a5d6920d74dff97abbc0fd5b04977",
            "placeholder": "​",
            "style": "IPY_MODEL_e0a040293b734a92982d55060f05523b",
            "value": " 100/100 [1:31:02&lt;00:00, 54.65s/it]"
          }
        },
        "d333dd3f3c8a4437b2d3f8a43005bdcb": {
          "model_module": "@jupyter-widgets/base",
          "model_name": "LayoutModel",
          "model_module_version": "1.2.0",
          "state": {
            "_model_module": "@jupyter-widgets/base",
            "_model_module_version": "1.2.0",
            "_model_name": "LayoutModel",
            "_view_count": null,
            "_view_module": "@jupyter-widgets/base",
            "_view_module_version": "1.2.0",
            "_view_name": "LayoutView",
            "align_content": null,
            "align_items": null,
            "align_self": null,
            "border": null,
            "bottom": null,
            "display": null,
            "flex": null,
            "flex_flow": null,
            "grid_area": null,
            "grid_auto_columns": null,
            "grid_auto_flow": null,
            "grid_auto_rows": null,
            "grid_column": null,
            "grid_gap": null,
            "grid_row": null,
            "grid_template_areas": null,
            "grid_template_columns": null,
            "grid_template_rows": null,
            "height": null,
            "justify_content": null,
            "justify_items": null,
            "left": null,
            "margin": null,
            "max_height": null,
            "max_width": null,
            "min_height": null,
            "min_width": null,
            "object_fit": null,
            "object_position": null,
            "order": null,
            "overflow": null,
            "overflow_x": null,
            "overflow_y": null,
            "padding": null,
            "right": null,
            "top": null,
            "visibility": null,
            "width": null
          }
        },
        "547925ba55a34ae89a1c243bae5bf1af": {
          "model_module": "@jupyter-widgets/base",
          "model_name": "LayoutModel",
          "model_module_version": "1.2.0",
          "state": {
            "_model_module": "@jupyter-widgets/base",
            "_model_module_version": "1.2.0",
            "_model_name": "LayoutModel",
            "_view_count": null,
            "_view_module": "@jupyter-widgets/base",
            "_view_module_version": "1.2.0",
            "_view_name": "LayoutView",
            "align_content": null,
            "align_items": null,
            "align_self": null,
            "border": null,
            "bottom": null,
            "display": null,
            "flex": null,
            "flex_flow": null,
            "grid_area": null,
            "grid_auto_columns": null,
            "grid_auto_flow": null,
            "grid_auto_rows": null,
            "grid_column": null,
            "grid_gap": null,
            "grid_row": null,
            "grid_template_areas": null,
            "grid_template_columns": null,
            "grid_template_rows": null,
            "height": null,
            "justify_content": null,
            "justify_items": null,
            "left": null,
            "margin": null,
            "max_height": null,
            "max_width": null,
            "min_height": null,
            "min_width": null,
            "object_fit": null,
            "object_position": null,
            "order": null,
            "overflow": null,
            "overflow_x": null,
            "overflow_y": null,
            "padding": null,
            "right": null,
            "top": null,
            "visibility": null,
            "width": null
          }
        },
        "f7bfd4b42f524d5d9ceb9bee7df261b1": {
          "model_module": "@jupyter-widgets/controls",
          "model_name": "DescriptionStyleModel",
          "model_module_version": "1.5.0",
          "state": {
            "_model_module": "@jupyter-widgets/controls",
            "_model_module_version": "1.5.0",
            "_model_name": "DescriptionStyleModel",
            "_view_count": null,
            "_view_module": "@jupyter-widgets/base",
            "_view_module_version": "1.2.0",
            "_view_name": "StyleView",
            "description_width": ""
          }
        },
        "e300732183874a9793ce97247b1660af": {
          "model_module": "@jupyter-widgets/base",
          "model_name": "LayoutModel",
          "model_module_version": "1.2.0",
          "state": {
            "_model_module": "@jupyter-widgets/base",
            "_model_module_version": "1.2.0",
            "_model_name": "LayoutModel",
            "_view_count": null,
            "_view_module": "@jupyter-widgets/base",
            "_view_module_version": "1.2.0",
            "_view_name": "LayoutView",
            "align_content": null,
            "align_items": null,
            "align_self": null,
            "border": null,
            "bottom": null,
            "display": null,
            "flex": null,
            "flex_flow": null,
            "grid_area": null,
            "grid_auto_columns": null,
            "grid_auto_flow": null,
            "grid_auto_rows": null,
            "grid_column": null,
            "grid_gap": null,
            "grid_row": null,
            "grid_template_areas": null,
            "grid_template_columns": null,
            "grid_template_rows": null,
            "height": null,
            "justify_content": null,
            "justify_items": null,
            "left": null,
            "margin": null,
            "max_height": null,
            "max_width": null,
            "min_height": null,
            "min_width": null,
            "object_fit": null,
            "object_position": null,
            "order": null,
            "overflow": null,
            "overflow_x": null,
            "overflow_y": null,
            "padding": null,
            "right": null,
            "top": null,
            "visibility": null,
            "width": null
          }
        },
        "b9aa623a82ff49bdb12c7fa1252ef570": {
          "model_module": "@jupyter-widgets/controls",
          "model_name": "ProgressStyleModel",
          "model_module_version": "1.5.0",
          "state": {
            "_model_module": "@jupyter-widgets/controls",
            "_model_module_version": "1.5.0",
            "_model_name": "ProgressStyleModel",
            "_view_count": null,
            "_view_module": "@jupyter-widgets/base",
            "_view_module_version": "1.2.0",
            "_view_name": "StyleView",
            "bar_color": null,
            "description_width": ""
          }
        },
        "8b2a5d6920d74dff97abbc0fd5b04977": {
          "model_module": "@jupyter-widgets/base",
          "model_name": "LayoutModel",
          "model_module_version": "1.2.0",
          "state": {
            "_model_module": "@jupyter-widgets/base",
            "_model_module_version": "1.2.0",
            "_model_name": "LayoutModel",
            "_view_count": null,
            "_view_module": "@jupyter-widgets/base",
            "_view_module_version": "1.2.0",
            "_view_name": "LayoutView",
            "align_content": null,
            "align_items": null,
            "align_self": null,
            "border": null,
            "bottom": null,
            "display": null,
            "flex": null,
            "flex_flow": null,
            "grid_area": null,
            "grid_auto_columns": null,
            "grid_auto_flow": null,
            "grid_auto_rows": null,
            "grid_column": null,
            "grid_gap": null,
            "grid_row": null,
            "grid_template_areas": null,
            "grid_template_columns": null,
            "grid_template_rows": null,
            "height": null,
            "justify_content": null,
            "justify_items": null,
            "left": null,
            "margin": null,
            "max_height": null,
            "max_width": null,
            "min_height": null,
            "min_width": null,
            "object_fit": null,
            "object_position": null,
            "order": null,
            "overflow": null,
            "overflow_x": null,
            "overflow_y": null,
            "padding": null,
            "right": null,
            "top": null,
            "visibility": null,
            "width": null
          }
        },
        "e0a040293b734a92982d55060f05523b": {
          "model_module": "@jupyter-widgets/controls",
          "model_name": "DescriptionStyleModel",
          "model_module_version": "1.5.0",
          "state": {
            "_model_module": "@jupyter-widgets/controls",
            "_model_module_version": "1.5.0",
            "_model_name": "DescriptionStyleModel",
            "_view_count": null,
            "_view_module": "@jupyter-widgets/base",
            "_view_module_version": "1.2.0",
            "_view_name": "StyleView",
            "description_width": ""
          }
        },
        "7d5adc735e104d0e97d4963b72d94d8e": {
          "model_module": "@jupyter-widgets/controls",
          "model_name": "HBoxModel",
          "model_module_version": "1.5.0",
          "state": {
            "_dom_classes": [],
            "_model_module": "@jupyter-widgets/controls",
            "_model_module_version": "1.5.0",
            "_model_name": "HBoxModel",
            "_view_count": null,
            "_view_module": "@jupyter-widgets/controls",
            "_view_module_version": "1.5.0",
            "_view_name": "HBoxView",
            "box_style": "",
            "children": [
              "IPY_MODEL_24bda70ab5e7485999c45748e1d3da27",
              "IPY_MODEL_b59a6710206f470894f2b458f764ff6d",
              "IPY_MODEL_95fe9f2a15614dde8b822058222571f7"
            ],
            "layout": "IPY_MODEL_fa506aaec05d4935bdb3c7e7b3499ae4"
          }
        },
        "24bda70ab5e7485999c45748e1d3da27": {
          "model_module": "@jupyter-widgets/controls",
          "model_name": "HTMLModel",
          "model_module_version": "1.5.0",
          "state": {
            "_dom_classes": [],
            "_model_module": "@jupyter-widgets/controls",
            "_model_module_version": "1.5.0",
            "_model_name": "HTMLModel",
            "_view_count": null,
            "_view_module": "@jupyter-widgets/controls",
            "_view_module_version": "1.5.0",
            "_view_name": "HTMLView",
            "description": "",
            "description_tooltip": null,
            "layout": "IPY_MODEL_c28b1dd34017428cb528886b8e893341",
            "placeholder": "​",
            "style": "IPY_MODEL_32e5dc25400c47bfbe8c40450a8e6eaa",
            "value": "split=train: 100%"
          }
        },
        "b59a6710206f470894f2b458f764ff6d": {
          "model_module": "@jupyter-widgets/controls",
          "model_name": "FloatProgressModel",
          "model_module_version": "1.5.0",
          "state": {
            "_dom_classes": [],
            "_model_module": "@jupyter-widgets/controls",
            "_model_module_version": "1.5.0",
            "_model_name": "FloatProgressModel",
            "_view_count": null,
            "_view_module": "@jupyter-widgets/controls",
            "_view_module_version": "1.5.0",
            "_view_name": "ProgressView",
            "bar_style": "",
            "description": "",
            "description_tooltip": null,
            "layout": "IPY_MODEL_164b14c0472742069ccdf0b5af89d770",
            "max": 1984,
            "min": 0,
            "orientation": "horizontal",
            "style": "IPY_MODEL_c0852fe53b9b45a38013cce140e1f033",
            "value": 1983
          }
        },
        "95fe9f2a15614dde8b822058222571f7": {
          "model_module": "@jupyter-widgets/controls",
          "model_name": "HTMLModel",
          "model_module_version": "1.5.0",
          "state": {
            "_dom_classes": [],
            "_model_module": "@jupyter-widgets/controls",
            "_model_module_version": "1.5.0",
            "_model_name": "HTMLModel",
            "_view_count": null,
            "_view_module": "@jupyter-widgets/controls",
            "_view_module_version": "1.5.0",
            "_view_name": "HTMLView",
            "description": "",
            "description_tooltip": null,
            "layout": "IPY_MODEL_44c485e931404bc3b636b0016f29a364",
            "placeholder": "​",
            "style": "IPY_MODEL_4d2535b09dfc43a5adaa7241cedc87f5",
            "value": " 1983/1984 [1:30:56&lt;00:11, 11.06s/it, acc=15.9, epoch=99, loss=5.19]"
          }
        },
        "fa506aaec05d4935bdb3c7e7b3499ae4": {
          "model_module": "@jupyter-widgets/base",
          "model_name": "LayoutModel",
          "model_module_version": "1.2.0",
          "state": {
            "_model_module": "@jupyter-widgets/base",
            "_model_module_version": "1.2.0",
            "_model_name": "LayoutModel",
            "_view_count": null,
            "_view_module": "@jupyter-widgets/base",
            "_view_module_version": "1.2.0",
            "_view_name": "LayoutView",
            "align_content": null,
            "align_items": null,
            "align_self": null,
            "border": null,
            "bottom": null,
            "display": null,
            "flex": null,
            "flex_flow": null,
            "grid_area": null,
            "grid_auto_columns": null,
            "grid_auto_flow": null,
            "grid_auto_rows": null,
            "grid_column": null,
            "grid_gap": null,
            "grid_row": null,
            "grid_template_areas": null,
            "grid_template_columns": null,
            "grid_template_rows": null,
            "height": null,
            "justify_content": null,
            "justify_items": null,
            "left": null,
            "margin": null,
            "max_height": null,
            "max_width": null,
            "min_height": null,
            "min_width": null,
            "object_fit": null,
            "object_position": null,
            "order": null,
            "overflow": null,
            "overflow_x": null,
            "overflow_y": null,
            "padding": null,
            "right": null,
            "top": null,
            "visibility": null,
            "width": null
          }
        },
        "c28b1dd34017428cb528886b8e893341": {
          "model_module": "@jupyter-widgets/base",
          "model_name": "LayoutModel",
          "model_module_version": "1.2.0",
          "state": {
            "_model_module": "@jupyter-widgets/base",
            "_model_module_version": "1.2.0",
            "_model_name": "LayoutModel",
            "_view_count": null,
            "_view_module": "@jupyter-widgets/base",
            "_view_module_version": "1.2.0",
            "_view_name": "LayoutView",
            "align_content": null,
            "align_items": null,
            "align_self": null,
            "border": null,
            "bottom": null,
            "display": null,
            "flex": null,
            "flex_flow": null,
            "grid_area": null,
            "grid_auto_columns": null,
            "grid_auto_flow": null,
            "grid_auto_rows": null,
            "grid_column": null,
            "grid_gap": null,
            "grid_row": null,
            "grid_template_areas": null,
            "grid_template_columns": null,
            "grid_template_rows": null,
            "height": null,
            "justify_content": null,
            "justify_items": null,
            "left": null,
            "margin": null,
            "max_height": null,
            "max_width": null,
            "min_height": null,
            "min_width": null,
            "object_fit": null,
            "object_position": null,
            "order": null,
            "overflow": null,
            "overflow_x": null,
            "overflow_y": null,
            "padding": null,
            "right": null,
            "top": null,
            "visibility": null,
            "width": null
          }
        },
        "32e5dc25400c47bfbe8c40450a8e6eaa": {
          "model_module": "@jupyter-widgets/controls",
          "model_name": "DescriptionStyleModel",
          "model_module_version": "1.5.0",
          "state": {
            "_model_module": "@jupyter-widgets/controls",
            "_model_module_version": "1.5.0",
            "_model_name": "DescriptionStyleModel",
            "_view_count": null,
            "_view_module": "@jupyter-widgets/base",
            "_view_module_version": "1.2.0",
            "_view_name": "StyleView",
            "description_width": ""
          }
        },
        "164b14c0472742069ccdf0b5af89d770": {
          "model_module": "@jupyter-widgets/base",
          "model_name": "LayoutModel",
          "model_module_version": "1.2.0",
          "state": {
            "_model_module": "@jupyter-widgets/base",
            "_model_module_version": "1.2.0",
            "_model_name": "LayoutModel",
            "_view_count": null,
            "_view_module": "@jupyter-widgets/base",
            "_view_module_version": "1.2.0",
            "_view_name": "LayoutView",
            "align_content": null,
            "align_items": null,
            "align_self": null,
            "border": null,
            "bottom": null,
            "display": null,
            "flex": null,
            "flex_flow": null,
            "grid_area": null,
            "grid_auto_columns": null,
            "grid_auto_flow": null,
            "grid_auto_rows": null,
            "grid_column": null,
            "grid_gap": null,
            "grid_row": null,
            "grid_template_areas": null,
            "grid_template_columns": null,
            "grid_template_rows": null,
            "height": null,
            "justify_content": null,
            "justify_items": null,
            "left": null,
            "margin": null,
            "max_height": null,
            "max_width": null,
            "min_height": null,
            "min_width": null,
            "object_fit": null,
            "object_position": null,
            "order": null,
            "overflow": null,
            "overflow_x": null,
            "overflow_y": null,
            "padding": null,
            "right": null,
            "top": null,
            "visibility": null,
            "width": null
          }
        },
        "c0852fe53b9b45a38013cce140e1f033": {
          "model_module": "@jupyter-widgets/controls",
          "model_name": "ProgressStyleModel",
          "model_module_version": "1.5.0",
          "state": {
            "_model_module": "@jupyter-widgets/controls",
            "_model_module_version": "1.5.0",
            "_model_name": "ProgressStyleModel",
            "_view_count": null,
            "_view_module": "@jupyter-widgets/base",
            "_view_module_version": "1.2.0",
            "_view_name": "StyleView",
            "bar_color": null,
            "description_width": ""
          }
        },
        "44c485e931404bc3b636b0016f29a364": {
          "model_module": "@jupyter-widgets/base",
          "model_name": "LayoutModel",
          "model_module_version": "1.2.0",
          "state": {
            "_model_module": "@jupyter-widgets/base",
            "_model_module_version": "1.2.0",
            "_model_name": "LayoutModel",
            "_view_count": null,
            "_view_module": "@jupyter-widgets/base",
            "_view_module_version": "1.2.0",
            "_view_name": "LayoutView",
            "align_content": null,
            "align_items": null,
            "align_self": null,
            "border": null,
            "bottom": null,
            "display": null,
            "flex": null,
            "flex_flow": null,
            "grid_area": null,
            "grid_auto_columns": null,
            "grid_auto_flow": null,
            "grid_auto_rows": null,
            "grid_column": null,
            "grid_gap": null,
            "grid_row": null,
            "grid_template_areas": null,
            "grid_template_columns": null,
            "grid_template_rows": null,
            "height": null,
            "justify_content": null,
            "justify_items": null,
            "left": null,
            "margin": null,
            "max_height": null,
            "max_width": null,
            "min_height": null,
            "min_width": null,
            "object_fit": null,
            "object_position": null,
            "order": null,
            "overflow": null,
            "overflow_x": null,
            "overflow_y": null,
            "padding": null,
            "right": null,
            "top": null,
            "visibility": null,
            "width": null
          }
        },
        "4d2535b09dfc43a5adaa7241cedc87f5": {
          "model_module": "@jupyter-widgets/controls",
          "model_name": "DescriptionStyleModel",
          "model_module_version": "1.5.0",
          "state": {
            "_model_module": "@jupyter-widgets/controls",
            "_model_module_version": "1.5.0",
            "_model_name": "DescriptionStyleModel",
            "_view_count": null,
            "_view_module": "@jupyter-widgets/base",
            "_view_module_version": "1.2.0",
            "_view_name": "StyleView",
            "description_width": ""
          }
        },
        "b6c0b6b59e084792b3757309213cc833": {
          "model_module": "@jupyter-widgets/controls",
          "model_name": "HBoxModel",
          "model_module_version": "1.5.0",
          "state": {
            "_dom_classes": [],
            "_model_module": "@jupyter-widgets/controls",
            "_model_module_version": "1.5.0",
            "_model_name": "HBoxModel",
            "_view_count": null,
            "_view_module": "@jupyter-widgets/controls",
            "_view_module_version": "1.5.0",
            "_view_name": "HBoxView",
            "box_style": "",
            "children": [
              "IPY_MODEL_df9cdedce0394f34b0015c319a4953ef",
              "IPY_MODEL_fc8fc49bda4644ed9a69c27d94b2142a",
              "IPY_MODEL_cf5dddaa9c8e4a8885347b4dba7baa49"
            ],
            "layout": "IPY_MODEL_f075bd99ce664943b8b424a7f9eaa493"
          }
        },
        "df9cdedce0394f34b0015c319a4953ef": {
          "model_module": "@jupyter-widgets/controls",
          "model_name": "HTMLModel",
          "model_module_version": "1.5.0",
          "state": {
            "_dom_classes": [],
            "_model_module": "@jupyter-widgets/controls",
            "_model_module_version": "1.5.0",
            "_model_name": "HTMLModel",
            "_view_count": null,
            "_view_module": "@jupyter-widgets/controls",
            "_view_module_version": "1.5.0",
            "_view_name": "HTMLView",
            "description": "",
            "description_tooltip": null,
            "layout": "IPY_MODEL_c87c1c60cf584ee2a6565e9a514db2f9",
            "placeholder": "​",
            "style": "IPY_MODEL_01f2b0f849d749fe9c058cdc441fd55a",
            "value": "split=val: 100%"
          }
        },
        "fc8fc49bda4644ed9a69c27d94b2142a": {
          "model_module": "@jupyter-widgets/controls",
          "model_name": "FloatProgressModel",
          "model_module_version": "1.5.0",
          "state": {
            "_dom_classes": [],
            "_model_module": "@jupyter-widgets/controls",
            "_model_module_version": "1.5.0",
            "_model_name": "FloatProgressModel",
            "_view_count": null,
            "_view_module": "@jupyter-widgets/controls",
            "_view_module_version": "1.5.0",
            "_view_name": "ProgressView",
            "bar_style": "",
            "description": "",
            "description_tooltip": null,
            "layout": "IPY_MODEL_70d5924175ab4e78878d5fc6e5be4398",
            "max": 425,
            "min": 0,
            "orientation": "horizontal",
            "style": "IPY_MODEL_b73a7da6661949c68a1096805a9f5d5f",
            "value": 424
          }
        },
        "cf5dddaa9c8e4a8885347b4dba7baa49": {
          "model_module": "@jupyter-widgets/controls",
          "model_name": "HTMLModel",
          "model_module_version": "1.5.0",
          "state": {
            "_dom_classes": [],
            "_model_module": "@jupyter-widgets/controls",
            "_model_module_version": "1.5.0",
            "_model_name": "HTMLModel",
            "_view_count": null,
            "_view_module": "@jupyter-widgets/controls",
            "_view_module_version": "1.5.0",
            "_view_name": "HTMLView",
            "description": "",
            "description_tooltip": null,
            "layout": "IPY_MODEL_2ea5b9db5d2d486282a749faec1e6b41",
            "placeholder": "​",
            "style": "IPY_MODEL_58d9bcc37b4d460488464dc6e5c8f9ee",
            "value": " 424/425 [1:31:02&lt;00:25, 25.05s/it, acc=14.3, epoch=99, loss=6.54]"
          }
        },
        "f075bd99ce664943b8b424a7f9eaa493": {
          "model_module": "@jupyter-widgets/base",
          "model_name": "LayoutModel",
          "model_module_version": "1.2.0",
          "state": {
            "_model_module": "@jupyter-widgets/base",
            "_model_module_version": "1.2.0",
            "_model_name": "LayoutModel",
            "_view_count": null,
            "_view_module": "@jupyter-widgets/base",
            "_view_module_version": "1.2.0",
            "_view_name": "LayoutView",
            "align_content": null,
            "align_items": null,
            "align_self": null,
            "border": null,
            "bottom": null,
            "display": null,
            "flex": null,
            "flex_flow": null,
            "grid_area": null,
            "grid_auto_columns": null,
            "grid_auto_flow": null,
            "grid_auto_rows": null,
            "grid_column": null,
            "grid_gap": null,
            "grid_row": null,
            "grid_template_areas": null,
            "grid_template_columns": null,
            "grid_template_rows": null,
            "height": null,
            "justify_content": null,
            "justify_items": null,
            "left": null,
            "margin": null,
            "max_height": null,
            "max_width": null,
            "min_height": null,
            "min_width": null,
            "object_fit": null,
            "object_position": null,
            "order": null,
            "overflow": null,
            "overflow_x": null,
            "overflow_y": null,
            "padding": null,
            "right": null,
            "top": null,
            "visibility": null,
            "width": null
          }
        },
        "c87c1c60cf584ee2a6565e9a514db2f9": {
          "model_module": "@jupyter-widgets/base",
          "model_name": "LayoutModel",
          "model_module_version": "1.2.0",
          "state": {
            "_model_module": "@jupyter-widgets/base",
            "_model_module_version": "1.2.0",
            "_model_name": "LayoutModel",
            "_view_count": null,
            "_view_module": "@jupyter-widgets/base",
            "_view_module_version": "1.2.0",
            "_view_name": "LayoutView",
            "align_content": null,
            "align_items": null,
            "align_self": null,
            "border": null,
            "bottom": null,
            "display": null,
            "flex": null,
            "flex_flow": null,
            "grid_area": null,
            "grid_auto_columns": null,
            "grid_auto_flow": null,
            "grid_auto_rows": null,
            "grid_column": null,
            "grid_gap": null,
            "grid_row": null,
            "grid_template_areas": null,
            "grid_template_columns": null,
            "grid_template_rows": null,
            "height": null,
            "justify_content": null,
            "justify_items": null,
            "left": null,
            "margin": null,
            "max_height": null,
            "max_width": null,
            "min_height": null,
            "min_width": null,
            "object_fit": null,
            "object_position": null,
            "order": null,
            "overflow": null,
            "overflow_x": null,
            "overflow_y": null,
            "padding": null,
            "right": null,
            "top": null,
            "visibility": null,
            "width": null
          }
        },
        "01f2b0f849d749fe9c058cdc441fd55a": {
          "model_module": "@jupyter-widgets/controls",
          "model_name": "DescriptionStyleModel",
          "model_module_version": "1.5.0",
          "state": {
            "_model_module": "@jupyter-widgets/controls",
            "_model_module_version": "1.5.0",
            "_model_name": "DescriptionStyleModel",
            "_view_count": null,
            "_view_module": "@jupyter-widgets/base",
            "_view_module_version": "1.2.0",
            "_view_name": "StyleView",
            "description_width": ""
          }
        },
        "70d5924175ab4e78878d5fc6e5be4398": {
          "model_module": "@jupyter-widgets/base",
          "model_name": "LayoutModel",
          "model_module_version": "1.2.0",
          "state": {
            "_model_module": "@jupyter-widgets/base",
            "_model_module_version": "1.2.0",
            "_model_name": "LayoutModel",
            "_view_count": null,
            "_view_module": "@jupyter-widgets/base",
            "_view_module_version": "1.2.0",
            "_view_name": "LayoutView",
            "align_content": null,
            "align_items": null,
            "align_self": null,
            "border": null,
            "bottom": null,
            "display": null,
            "flex": null,
            "flex_flow": null,
            "grid_area": null,
            "grid_auto_columns": null,
            "grid_auto_flow": null,
            "grid_auto_rows": null,
            "grid_column": null,
            "grid_gap": null,
            "grid_row": null,
            "grid_template_areas": null,
            "grid_template_columns": null,
            "grid_template_rows": null,
            "height": null,
            "justify_content": null,
            "justify_items": null,
            "left": null,
            "margin": null,
            "max_height": null,
            "max_width": null,
            "min_height": null,
            "min_width": null,
            "object_fit": null,
            "object_position": null,
            "order": null,
            "overflow": null,
            "overflow_x": null,
            "overflow_y": null,
            "padding": null,
            "right": null,
            "top": null,
            "visibility": null,
            "width": null
          }
        },
        "b73a7da6661949c68a1096805a9f5d5f": {
          "model_module": "@jupyter-widgets/controls",
          "model_name": "ProgressStyleModel",
          "model_module_version": "1.5.0",
          "state": {
            "_model_module": "@jupyter-widgets/controls",
            "_model_module_version": "1.5.0",
            "_model_name": "ProgressStyleModel",
            "_view_count": null,
            "_view_module": "@jupyter-widgets/base",
            "_view_module_version": "1.2.0",
            "_view_name": "StyleView",
            "bar_color": null,
            "description_width": ""
          }
        },
        "2ea5b9db5d2d486282a749faec1e6b41": {
          "model_module": "@jupyter-widgets/base",
          "model_name": "LayoutModel",
          "model_module_version": "1.2.0",
          "state": {
            "_model_module": "@jupyter-widgets/base",
            "_model_module_version": "1.2.0",
            "_model_name": "LayoutModel",
            "_view_count": null,
            "_view_module": "@jupyter-widgets/base",
            "_view_module_version": "1.2.0",
            "_view_name": "LayoutView",
            "align_content": null,
            "align_items": null,
            "align_self": null,
            "border": null,
            "bottom": null,
            "display": null,
            "flex": null,
            "flex_flow": null,
            "grid_area": null,
            "grid_auto_columns": null,
            "grid_auto_flow": null,
            "grid_auto_rows": null,
            "grid_column": null,
            "grid_gap": null,
            "grid_row": null,
            "grid_template_areas": null,
            "grid_template_columns": null,
            "grid_template_rows": null,
            "height": null,
            "justify_content": null,
            "justify_items": null,
            "left": null,
            "margin": null,
            "max_height": null,
            "max_width": null,
            "min_height": null,
            "min_width": null,
            "object_fit": null,
            "object_position": null,
            "order": null,
            "overflow": null,
            "overflow_x": null,
            "overflow_y": null,
            "padding": null,
            "right": null,
            "top": null,
            "visibility": null,
            "width": null
          }
        },
        "58d9bcc37b4d460488464dc6e5c8f9ee": {
          "model_module": "@jupyter-widgets/controls",
          "model_name": "DescriptionStyleModel",
          "model_module_version": "1.5.0",
          "state": {
            "_model_module": "@jupyter-widgets/controls",
            "_model_module_version": "1.5.0",
            "_model_name": "DescriptionStyleModel",
            "_view_count": null,
            "_view_module": "@jupyter-widgets/base",
            "_view_module_version": "1.2.0",
            "_view_name": "StyleView",
            "description_width": ""
          }
        }
      }
    }
  },
  "cells": [
    {
      "cell_type": "markdown",
      "metadata": {
        "id": "view-in-github",
        "colab_type": "text"
      },
      "source": [
        "<a href=\"https://colab.research.google.com/github/Dohy-Lee/NLP_By_Pytorch/blob/main/ch5.ipynb\" target=\"_parent\"><img src=\"https://colab.research.google.com/assets/colab-badge.svg\" alt=\"Open In Colab\"/></a>"
      ]
    },
    {
      "cell_type": "markdown",
      "source": [
        "* 임베딩과 표현학습 : 이산 타입과 벡터 공간의 포인트 사이에 매핑을 학습하는 것  \n",
        "* 단어 임베딩 : 이산 타입이 단어일 때 밀집 벡터 표현  \n",
        "* 임베딩 방법에는 <u>TF-IDF와 같은 카운터 기반의 임베딩 방법</u>, <u>학습 기반 혹은 예측 기반의 임베딩 방법</u>이 있음.\n",
        "* 저차원으로 학습된 밀집 표현의 장점 (원-핫 벡터와 카운터 기반의 벡터와 비교)\n",
        "  * 차원을 줄이면 계산을 효율적으로 수행\n",
        "  * 카운트 기반 표현은 여러 차원에 비슷한 정보를 중복해 인코딩한 고차원 벡터를 만듦.  \n",
        "  → 이러한 벡터는 통계적 장점을 공유하지 못함\n",
        "  * 고차원 입력은 머신러닝과 최적화에서 실제로 문제가 될 수 있음 (차원의 저주)  \n",
        "전통적으로 이런 차원 문제를 해결하는 데 <u>특잇값 분해</u>, <u>주성분 분석</u> 등이 쓰였지만, 차원이 수백만 개일 때는 잘 적용되지 않음.\n",
        "  * 작업에 특화된 데이터에서 학습된(혹은 미세 튜닝된) 표현은 현재 작업에 최적"
      ],
      "metadata": {
        "id": "CddntUN4dt2K"
      }
    },
    {
      "cell_type": "code",
      "execution_count": 63,
      "metadata": {
        "colab": {
          "base_uri": "https://localhost:8080/"
        },
        "id": "xwlkJ-jHdp0C",
        "outputId": "1d5cc4fc-55f9-44a7-8be4-26a66079613f"
      },
      "outputs": [
        {
          "output_type": "stream",
          "name": "stdout",
          "text": [
            "Looking in indexes: https://pypi.org/simple, https://us-python.pkg.dev/colab-wheels/public/simple/\n",
            "Requirement already satisfied: annoy in /usr/local/lib/python3.7/dist-packages (1.17.1)\n"
          ]
        }
      ],
      "source": [
        "!pip install annoy"
      ]
    },
    {
      "cell_type": "code",
      "source": [
        "import torch\n",
        "import torch.nn as nn\n",
        "from tqdm import tqdm\n",
        "from annoy import AnnoyIndex\n",
        "import numpy as np"
      ],
      "metadata": {
        "id": "OOIfNGvIkRvg"
      },
      "execution_count": 64,
      "outputs": []
    },
    {
      "cell_type": "code",
      "source": [
        "class PreTrainedEmbeddings(object): # 사전 훈련된 단어 벡터 사용을 위한 래퍼 클래스\n",
        "  def __init__(self, word_to_index, word_vectors): # word_to_index(dict): 단어에서 정수로 매핑\n",
        "                                                   # word_vectors (numpy 배열의 리스트)\n",
        "    self.word_to_index = word_to_index\n",
        "    self.word_vectors = word_vectors\n",
        "    self.index_to_word = {v: k for k,v in self.word_to_index.items()}\n",
        "\n",
        "    self.index = AnnoyIndex(len(word_vectors[0]), metric='euclidean')\n",
        "    print('인덱스 생성 중')\n",
        "    for _, i in self.word_to_index.items():\n",
        "      self.index.add_item(i, self.word_vectors[i])\n",
        "    self.index.build(50)\n",
        "    print('완료')\n",
        "\n",
        "  @classmethod\n",
        "  def from_embeddings_file(cls, embedding_file): # 사전 훈련된 벡터 파일에서 객체를 만듦\n",
        "                                                 # embeding_file(str) : 파일 위치\n",
        "                                                 # 반환값 : PretrainedEmbeddings의 인스턴스\n",
        "    word_to_index = {}\n",
        "    word_vectors = []\n",
        "\n",
        "    with open(embedding_file) as fp:\n",
        "      for line in fp.readlines():\n",
        "        line = line.split(\" \")\n",
        "        word = line[0]\n",
        "        vec = np.array([float(x) for x in line[1:]])\n",
        "\n",
        "        word_to_index[word] = len(word_to_index)\n",
        "        word_vectors.append(vec)\n",
        "\n",
        "    return cls(word_to_index, word_vectors)\n",
        "\n",
        "  def get_embedding(self, word): # 반환값: 임베딩(numpy.ndarray)\n",
        "    return self.word_vectors[self.word_to_index[word]]\n",
        "\n",
        "  def get_closet_to_vector(self, vector, n=1): # 벡터가 주어지면 n개의 최근접 이웃 반환\n",
        "                                                # vector (np.ndarray) : Annoy 인덱스에 있는 벡터의 크기와 같아야햠\n",
        "                                                # n (int) : 반환될 이웃의 개수\n",
        "                                                # 반환값: [str,str '''] 주어진 벡터와 가장 가까운 단어, 단 단어는 거리순으로 정렬되어 있지 않음\n",
        "    nn_indices = self.index.get_nns_by_vector(vector, n)\n",
        "    return [self.index_to_word[neighbor] for neighbor in nn_indices]\n",
        "\n",
        "  def compute_and_print_analogy(self, word1, word2, word3): # 단어 임베딩을 사용한 유추 결과 출력\n",
        "                                                            # word1이 word2일 때 word3은 __\n",
        "                                                            # 이 메서드는 word1 : word2 :: word3 : word4를 출력\n",
        "    vec1 = self.get_embedding(word1)\n",
        "    vec2 = self.get_embedding(word2)\n",
        "    vec3 = self.get_embedding(word3)\n",
        "\n",
        "    # 네 번째 임베딩 계산\n",
        "    spatial_relationship = vec2 - vec1\n",
        "    vec4 = vec3 + spatial_relationship\n",
        "\n",
        "    closest_words = self.get_closet_to_vector(vec4, n=4)\n",
        "    existing_words = set([word1, word2, word3])\n",
        "    closest_words = [word for word in closest_words if word not in existing_words]\n",
        "\n",
        "    if len(closest_words)==0:\n",
        "      print('계산된 벡터와 가장 가까운 이웃을 찾을 수 없음')\n",
        "      return\n",
        "    \n",
        "    for word4 in closest_words:\n",
        "      print(\"{} : {} :: {} : {}\".format(word1,word2,word3,word4))"
      ],
      "metadata": {
        "id": "gv5iJx4jkb8I"
      },
      "execution_count": 65,
      "outputs": []
    },
    {
      "cell_type": "code",
      "source": [
        "# GloVe 데이터를 다운로드\n",
        "!wget http://nlp.stanford.edu/data/glove.6B.zip\n",
        "!unzip glove.6B.zip\n",
        "!mkdir -p data/glove\n",
        "!mv glove.6B.100d.txt data/glove"
      ],
      "metadata": {
        "colab": {
          "base_uri": "https://localhost:8080/"
        },
        "id": "IORdytXwohaG",
        "outputId": "4c51056d-9c5e-4261-ecdd-29b901ffc380"
      },
      "execution_count": 66,
      "outputs": [
        {
          "output_type": "stream",
          "name": "stdout",
          "text": [
            "--2022-09-12 14:11:30--  http://nlp.stanford.edu/data/glove.6B.zip\n",
            "Resolving nlp.stanford.edu (nlp.stanford.edu)... 171.64.67.140\n",
            "Connecting to nlp.stanford.edu (nlp.stanford.edu)|171.64.67.140|:80... connected.\n",
            "HTTP request sent, awaiting response... 302 Found\n",
            "Location: https://nlp.stanford.edu/data/glove.6B.zip [following]\n",
            "--2022-09-12 14:11:30--  https://nlp.stanford.edu/data/glove.6B.zip\n",
            "Connecting to nlp.stanford.edu (nlp.stanford.edu)|171.64.67.140|:443... connected.\n",
            "HTTP request sent, awaiting response... 301 Moved Permanently\n",
            "Location: https://downloads.cs.stanford.edu/nlp/data/glove.6B.zip [following]\n",
            "--2022-09-12 14:11:31--  https://downloads.cs.stanford.edu/nlp/data/glove.6B.zip\n",
            "Resolving downloads.cs.stanford.edu (downloads.cs.stanford.edu)... 171.64.64.22\n",
            "Connecting to downloads.cs.stanford.edu (downloads.cs.stanford.edu)|171.64.64.22|:443... connected.\n",
            "HTTP request sent, awaiting response... 200 OK\n",
            "Length: 862182613 (822M) [application/zip]\n",
            "Saving to: ‘glove.6B.zip.1’\n",
            "\n",
            "glove.6B.zip.1      100%[===================>] 822.24M  5.07MB/s    in 2m 42s  \n",
            "\n",
            "2022-09-12 14:14:14 (5.07 MB/s) - ‘glove.6B.zip.1’ saved [862182613/862182613]\n",
            "\n",
            "Archive:  glove.6B.zip\n",
            "replace glove.6B.50d.txt? [y]es, [n]o, [A]ll, [N]one, [r]ename: y\n",
            "  inflating: glove.6B.50d.txt        \n",
            "  inflating: glove.6B.100d.txt       \n",
            "replace glove.6B.200d.txt? [y]es, [n]o, [A]ll, [N]one, [r]ename: y\n",
            "  inflating: glove.6B.200d.txt       \n",
            "replace glove.6B.300d.txt? [y]es, [n]o, [A]ll, [N]one, [r]ename: y\n",
            "  inflating: glove.6B.300d.txt       \n"
          ]
        }
      ]
    },
    {
      "cell_type": "markdown",
      "source": [
        "단어 임베딩의 핵심기능은 <u>단어 사용에서 규칙적으로 나타는 구문과 의미 관계를 인코딩하는 것</u>  "
      ],
      "metadata": {
        "id": "LgkrO7cSrmpj"
      }
    },
    {
      "cell_type": "code",
      "source": [
        "embeddings = PreTrainedEmbeddings.from_embeddings_file('data/glove/glove.6B.100d.txt')"
      ],
      "metadata": {
        "colab": {
          "base_uri": "https://localhost:8080/"
        },
        "id": "Eoty47RmokPe",
        "outputId": "d0d6e09f-f724-4af9-b22e-f164e179cb7b"
      },
      "execution_count": 67,
      "outputs": [
        {
          "output_type": "stream",
          "name": "stdout",
          "text": [
            "인덱스 생성 중\n",
            "완료\n"
          ]
        }
      ]
    },
    {
      "cell_type": "code",
      "source": [
        "# 성별 명사와 대명사의 관계\n",
        "embeddings.compute_and_print_analogy('man', 'he', 'woman')"
      ],
      "metadata": {
        "colab": {
          "base_uri": "https://localhost:8080/"
        },
        "id": "zZ_TZcqBol6W",
        "outputId": "976445b7-026a-478d-c0ef-65989ac04f23"
      },
      "execution_count": 68,
      "outputs": [
        {
          "output_type": "stream",
          "name": "stdout",
          "text": [
            "man : he :: woman : she\n",
            "man : he :: woman : never\n"
          ]
        }
      ]
    },
    {
      "cell_type": "code",
      "source": [
        "# 동사-명사 관계\n",
        "embeddings.compute_and_print_analogy('fly', 'plane', 'sail')"
      ],
      "metadata": {
        "colab": {
          "base_uri": "https://localhost:8080/"
        },
        "id": "ySo8Nkyiom12",
        "outputId": "b7dff1eb-69db-404e-fc6d-d5e2915fc914"
      },
      "execution_count": 69,
      "outputs": [
        {
          "output_type": "stream",
          "name": "stdout",
          "text": [
            "fly : plane :: sail : ship\n",
            "fly : plane :: sail : vessel\n"
          ]
        }
      ]
    },
    {
      "cell_type": "code",
      "source": [
        "# 명사-명사 관계\n",
        "embeddings.compute_and_print_analogy('cat', 'kitten', 'dog')"
      ],
      "metadata": {
        "colab": {
          "base_uri": "https://localhost:8080/"
        },
        "id": "mSVu2VC3onzG",
        "outputId": "36425e6e-3c4e-41c3-c1c7-84ed8d41fc05"
      },
      "execution_count": 70,
      "outputs": [
        {
          "output_type": "stream",
          "name": "stdout",
          "text": [
            "cat : kitten :: dog : puppy\n",
            "cat : kitten :: dog : toddler\n",
            "cat : kitten :: dog : sleds\n"
          ]
        }
      ]
    },
    {
      "cell_type": "code",
      "source": [
        "# 상위어 (더 넓은 범주)\n",
        "embeddings.compute_and_print_analogy('blue', 'color', 'dog')"
      ],
      "metadata": {
        "colab": {
          "base_uri": "https://localhost:8080/"
        },
        "id": "s4a2jZW6opCO",
        "outputId": "407e12ac-06c6-44a2-a2e3-ee5958915e22"
      },
      "execution_count": 71,
      "outputs": [
        {
          "output_type": "stream",
          "name": "stdout",
          "text": [
            "blue : color :: dog : animal\n",
            "blue : color :: dog : breed\n",
            "blue : color :: dog : pet\n"
          ]
        }
      ]
    },
    {
      "cell_type": "code",
      "source": [
        "# 비교급\n",
        "embeddings.compute_and_print_analogy('fast', 'fastest', 'young')"
      ],
      "metadata": {
        "colab": {
          "base_uri": "https://localhost:8080/"
        },
        "id": "lqM8Yc0hoqtm",
        "outputId": "4663fd6f-d3e9-49f4-9be5-c3b29f223f80"
      },
      "execution_count": 72,
      "outputs": [
        {
          "output_type": "stream",
          "name": "stdout",
          "text": [
            "fast : fastest :: young : youngest\n",
            "fast : fastest :: young : sixth\n",
            "fast : fastest :: young : fifth\n",
            "fast : fastest :: young : third\n"
          ]
        }
      ]
    },
    {
      "cell_type": "code",
      "source": [
        "# 부분에서 전체\n",
        "embeddings.compute_and_print_analogy('toe', 'foot', 'finger')"
      ],
      "metadata": {
        "colab": {
          "base_uri": "https://localhost:8080/"
        },
        "id": "UfFA1RhJosDG",
        "outputId": "fc024a54-3436-4e5e-f98c-f81450d43b71"
      },
      "execution_count": 73,
      "outputs": [
        {
          "output_type": "stream",
          "name": "stdout",
          "text": [
            "toe : foot :: finger : hand\n",
            "toe : foot :: finger : attached\n",
            "toe : foot :: finger : apart\n"
          ]
        }
      ]
    },
    {
      "cell_type": "code",
      "source": [
        "# 방식 차이\n",
        "embeddings.compute_and_print_analogy('talk', 'communicate', 'read')"
      ],
      "metadata": {
        "colab": {
          "base_uri": "https://localhost:8080/"
        },
        "id": "bcJ7AH_TotTw",
        "outputId": "b0b40496-04c4-4eb3-9fb5-51df9c9d5a88"
      },
      "execution_count": 74,
      "outputs": [
        {
          "output_type": "stream",
          "name": "stdout",
          "text": [
            "talk : communicate :: read : interpret\n",
            "talk : communicate :: read : memorize\n",
            "talk : communicate :: read : instructions\n"
          ]
        }
      ]
    },
    {
      "cell_type": "code",
      "source": [
        "# 전체 의미 표현 (관습/인물)\n",
        "embeddings.compute_and_print_analogy('blue', 'democrat', 'red')"
      ],
      "metadata": {
        "colab": {
          "base_uri": "https://localhost:8080/"
        },
        "id": "aofHz9f3ouUh",
        "outputId": "ddbc0129-529f-4b7f-a274-b3fc17dddbe4"
      },
      "execution_count": 75,
      "outputs": [
        {
          "output_type": "stream",
          "name": "stdout",
          "text": [
            "blue : democrat :: red : republican\n",
            "blue : democrat :: red : congressman\n",
            "blue : democrat :: red : senator\n"
          ]
        }
      ]
    },
    {
      "cell_type": "code",
      "source": [
        "# 단어 임베딩에 인코딩된 성별과 같은 보호 속성에 주의. 이로 인해 하위 모델에서 원치 않는 편향이 발생할 수 있음\n",
        "embeddings.compute_and_print_analogy('man', 'king', 'woman')"
      ],
      "metadata": {
        "colab": {
          "base_uri": "https://localhost:8080/"
        },
        "id": "El9TEhuXovYx",
        "outputId": "f6a998c3-1332-4a4f-bcbf-eecb54873e41"
      },
      "execution_count": 76,
      "outputs": [
        {
          "output_type": "stream",
          "name": "stdout",
          "text": [
            "man : king :: woman : queen\n",
            "man : king :: woman : throne\n",
            "man : king :: woman : prince\n"
          ]
        }
      ]
    },
    {
      "cell_type": "code",
      "source": [
        "# 벡터에 인코딩된 문화적 성별 편견\n",
        "embeddings.compute_and_print_analogy('man', 'doctor', 'woman')"
      ],
      "metadata": {
        "colab": {
          "base_uri": "https://localhost:8080/"
        },
        "id": "h5zs85JmoxUg",
        "outputId": "f3caf6ff-19e4-4902-848b-de2b95ff70b3"
      },
      "execution_count": 77,
      "outputs": [
        {
          "output_type": "stream",
          "name": "stdout",
          "text": [
            "man : doctor :: woman : nurse\n",
            "man : doctor :: woman : physician\n"
          ]
        }
      ]
    },
    {
      "cell_type": "code",
      "source": [
        "# 동시에 등장하는 정보로 의미를 인코딩 하는 위험을 보여주는 예\n",
        "embeddings.compute_and_print_analogy('fast', 'fastest', 'small')"
      ],
      "metadata": {
        "colab": {
          "base_uri": "https://localhost:8080/"
        },
        "id": "SDrkxDN-oypw",
        "outputId": "4b7619b0-b3eb-428c-8cf0-06b7ea689db5"
      },
      "execution_count": 78,
      "outputs": [
        {
          "output_type": "stream",
          "name": "stdout",
          "text": [
            "fast : fastest :: small : smallest\n",
            "fast : fastest :: small : largest\n",
            "fast : fastest :: small : registered\n",
            "fast : fastest :: small : placing\n"
          ]
        }
      ]
    },
    {
      "cell_type": "markdown",
      "source": [
        "# CBOW 임베딩 학습하기\n",
        " * nn.Embedding : 임베딩 행렬을 캡슐화, Embedding 층을 사용하여 토큰의 정수 ID를 신경망 계산에 사용되는 벡터로 매핑  \n",
        " 옵티마이저는 모델 가중치를 업데이트할 때 이 벡터값도 업데이트해서 손실을 최소화함\n",
        " "
      ],
      "metadata": {
        "id": "BaBoiHFFv07I"
      }
    },
    {
      "cell_type": "code",
      "source": [
        "import os\n",
        "from argparse import Namespace\n",
        "from collections import Counter\n",
        "import json\n",
        "import re\n",
        "import string\n",
        "\n",
        "import numpy as np\n",
        "import pandas as pd\n",
        "import torch \n",
        "import torch.nn as nn\n",
        "import torch.nn.functional as F\n",
        "import torch.optim as optim\n",
        "from torch.utils.data import Dataset, DataLoader\n",
        "import tqdm"
      ],
      "metadata": {
        "id": "Es-5pPAboz4w"
      },
      "execution_count": 79,
      "outputs": []
    },
    {
      "cell_type": "code",
      "source": [
        "class Vocabulary(object): # 매핑을 위해 텍스트를 처리하고 어휘 사전을 만드는 클래스\n",
        "  def __init__(self, token_to_idx = None, mask_token=\"<MASK>\", add_unk=True, unk_token=\"<UNK\") : # token_to_index (dict) : 기존 토큰-인덱스 매핑 딕셔너리\n",
        "                                                                                                 # mask_token (str) : Vocabulary에 추가할 MASK 토큰. 모델 파라미터를 업데이트하는데 사용하지 않는 위치를 나타냄\n",
        "                                                                                                 # add_unk (bool) : UNK 토큰을 추가할지 지정하는 플래그\n",
        "                                                                                                 # unk_token (str) : Vocabulary에 추가할 UNK 토큰\n",
        "    if token_to_idx is None: \n",
        "      token_to_idx = {}\n",
        "    self._token_to_idx = token_to_idx\n",
        "    self._idx_to_token = {idx:token for token, idx in self._token_to_idx.items()}\n",
        "    self._add_unk = add_unk\n",
        "    self._unk_token = unk_token\n",
        "    self._mask_token = mask_token\n",
        "    self.mask_index = self.add_token(self._mask_token)\n",
        "    self.unk_index = -1\n",
        "    if add_unk:\n",
        "      self.unk_index = self.add_token(unk_token)\n",
        "    \n",
        "  def to_serializable(self): # 직렬화할 수 있는 딕셔너리를 반환\n",
        "    return {'token_to_idx':self._token_to_idx,\n",
        "            'add_unk':self._add_unk,\n",
        "            'unk_token':self._unk_token,\n",
        "            'mask_token':self._mask_token}\n",
        "  @classmethod\n",
        "  def from_serializable(cls,contents): # 직렬화된 딕셔너리에서 Vocabulary 객체를 만듦\n",
        "    return cls(**contents)\n",
        "\n",
        "  def add_token(self, token): # 토큰을 기반으로 매핑 딕셔너리를 업데이트\n",
        "                              # token (str) : Vocabulary에 추가할 토큰\n",
        "                              # 반환값 index(int) : 토큰에 상응하는 정수\n",
        "    if token in self._token_to_idx:\n",
        "      index = self._token_to_idx[token]\n",
        "    else :\n",
        "      index = len(self._token_to_idx)\n",
        "      self._token_to_idx[token] = index\n",
        "      self._idx_to_token[index] = token\n",
        "    return index\n",
        "\n",
        "  def add_many(self, tokens): # 토큰 리스트를 Vocabulary에 추가\n",
        "                              # tokens (list) : 문자열 토큰 리스트\n",
        "                              # 반환값 indices (list) : 토큰 리스트에 상응되는 인덱스 리스트\n",
        "    return [self.add_token(token) for token in tokens]\n",
        "\n",
        "  def lookup_token(self, token): # 토큰에 대응하는 인덱스 추출, 토큰이 없으면 UNK 인덱스 반환. 단 UNK 토큰을 사용하려면(Vocabulary에 추가하기 위해) 'unk_index'가 0보다 커야함\n",
        "                                 # token (str) : 찾을 토큰\n",
        "                                 # 반환값 index (int) : 토큰에 해당하는 인덱스\n",
        "    if self.unk_index >= 0 :\n",
        "      return self._token_to_idx.get(token, self.unk_index)\n",
        "    else :\n",
        "      return self._token_to_idx[token]\n",
        "    \n",
        "  def lookup_index(self, index): # 인덱스에 해당하는 토큰을 반환\n",
        "                                 # index (int) : 찾을 인덱스\n",
        "                                 # 반환값 token (str) : 인덱스에 해당하는 토큰\n",
        "    if index not in self._idx_to_token[index]: # KeyErr : 인덱스가 Vocabulary에 없을 때 발생\n",
        "      raise KeyError(\"the index (%d) is not in the Vocabulary\" % index)\n",
        "    return self._idx_to_token[index]\n",
        "  \n",
        "  def __str__(self):\n",
        "    return \"<Vocabulary(size=%d)>\" % len(self)\n",
        "  \n",
        "  def __len__(self):\n",
        "    return len(self._token_to_idx)"
      ],
      "metadata": {
        "id": "Zs3qwLmxwkv4"
      },
      "execution_count": 100,
      "outputs": []
    },
    {
      "cell_type": "code",
      "source": [
        "class CBOWVectorizer(object) : # 어휘 사전을 생성하고 관리\n",
        "  def __init__(self, cbow_vocab): # cbow_vocab (Vocabulary): 단어를 정수에 매핑\n",
        "    self.cbow_vocab = cbow_vocab\n",
        "  \n",
        "  def vectorize(self, context, vector_length = -1): # context (str) : 공백으로 나누어진 단어 문자열\n",
        "                                                    # vector_length (int) : 인덱스 벡터의 길이 매개변수\n",
        "                                                    # 문맥의 토큰 수가 최대 길이보다 적으면 나머지 항목은 0으로 채워짐(패딩)\n",
        "    indices = [self.cbow_vocab.lookup_token(token) for token in context.split(' ')]\n",
        "    if vector_length < 0:\n",
        "      vector_length = len(indices)\n",
        "    \n",
        "    out_vector = np.zeros(vector_length, dtype=np.int64)\n",
        "    out_vector[:len(indices)] = indices\n",
        "    out_vector[len(indices):] = self.cbow_vocab.mask_index\n",
        "\n",
        "    return out_vector\n",
        "  @classmethod\n",
        "  def from_dataframe(cls, cbow_df): # 데이터셋 데이터프레임에서 Vectorizer 객체를 만듦\n",
        "                                    # cbow_df (pandas.DataFrame) : 타깃 데이터셋\n",
        "                                    # 반환값 CBOWVectorizer 객체\n",
        "    cbow_vocab = Vocabulary()\n",
        "    for index, row in cbow_df.iterrows():\n",
        "      for token in row.context.split(' '):\n",
        "        cbow_vocab.add_token(token)\n",
        "      cbow_vocab.add_token(row.target)\n",
        "\n",
        "    return cls(cbow_vocab)\n",
        "\n",
        "  @classmethod\n",
        "  def from_serializable(cls, contents):\n",
        "    cbow_vocab = \\\n",
        "    Vocabulary.from_serializable(contents['cbow_vocab'])\n",
        "    return cls(cbow_vocab=cbow_vocab)\n",
        "\n",
        "  def to_serializable(self):\n",
        "    return {'cbow_vocab' : self.cbow_vocab.to_serializable()}"
      ],
      "metadata": {
        "id": "7yqcLZKg5OXP"
      },
      "execution_count": 101,
      "outputs": []
    },
    {
      "cell_type": "code",
      "source": [
        "class CBOWDataset(Dataset):\n",
        "  def __init__(self, cbow_df, vectorizer): # cbow_df (pandans.DataFrame) : 데이터셋\n",
        "                                           # vectorizer (CBOWVectorizer) : 데이터셋에서 만든  CBOWVectorizer 객체\n",
        "    self.cbow_df = cbow_df\n",
        "    self._vectorizer = vectorizer\n",
        "\n",
        "    measure_len = lambda context : len(context.split(\" \"))\n",
        "    self._max_seq_length = max(map(measure_len , cbow_df.context))\n",
        "\n",
        "    self.train_df = self.cbow_df[self.cbow_df.split=='train']\n",
        "    self.train_size = len(self.train_df)\n",
        "\n",
        "    self.val_df = self.cbow_df[self.cbow_df.split=='val']\n",
        "    self.validation_size = len(self.val_df)\n",
        "\n",
        "    self.test_df = self.cbow_df[self.cbow_df.split=='test']\n",
        "    self.test_size = len(self.test_df)   \n",
        "\n",
        "    self._lookup_dict = {'train': (self.train_df, self.train_size),\n",
        "                         'val': (self.val_df, self.validation_size),\n",
        "                         'test': (self.test_df,self.test_size)}\n",
        "    self.set_split('train')\n",
        "\n",
        "  @classmethod\n",
        "  def load_dataset_and_make_vectorizer(cls, cbow_csv): # 데이터셋을 로드하고 처음부터 새로운 Vectorizer 만들기\n",
        "                                                       # cbow_csv (str): 데이터셋의 위치\n",
        "                                                       # 반환값: CBOWDataset의 인스턴스\n",
        "      cbow_df = pd.read_csv(cbow_csv)\n",
        "      train_cbow_df = cbow_df[cbow_df.split=='train']\n",
        "      return cls(cbow_df, CBOWVectorizer.from_dataframe(train_cbow_df))\n",
        "\n",
        "  @classmethod\n",
        "  def load_dataset_and_load_vectorizer(cls, cbow_csv, vectorizer_filepath): # 데이터셋을 로드하고 새로운 CBOWVectorizer 객체를 만듦. 캐시된 CBOWVectorizer 객체를 재사용할 때 사용\n",
        "                                                                            # cbow_csv (str): 데이터셋의 위치\n",
        "                                                                            # vectorizer_filepath (str): CBOWVectorizer 객체의 저장 위치\n",
        "                                                                            # 반환값:CBOWVectorizer의 인스턴스\n",
        "      cbow_df = pd.read_csv(cbow_csv)\n",
        "      vectorizer = cls.load_vectorizer_only(vectorizer_filepath)\n",
        "      return cls(cbow_df, vectorizer)\n",
        "  @staticmethod\n",
        "  def load_vectorizer_only(vectorizer_filepath): # 파일에서 CBOWvectorizer 객체를 로드하는 정적 메서드\n",
        "                                                   # vectorizer_filepath (str) : 직렬화된 CBOWVectorizer 객체의 위치\n",
        "                                                   # 반환값 : CBOWVectorizer의 인스턴스\n",
        "    with open(vectorizer_filepath, 'w') as fp:\n",
        "      return CBOWVectorizer.from_serializable(json.load(fp))\n",
        "\n",
        "  def save_vectorizer(self, vectorizer_filepath): # CBOWVectorizer 객체를 Json 형태로 디스크에 저장\n",
        "                                                    # vectorizer_filepath (str) : CBOWVectorizer 객체의 저장 위치\n",
        "    with open(vectorizer_filepath, 'w') as fp:\n",
        "      json.dump(self._vectorizer.to_serializable(), fp) \n",
        "    \n",
        "  def get_vectorizer(self) : # 벡터 변환 객체를 반환\n",
        "    return self._vectorizer\n",
        "    \n",
        "  def set_split(self, split='train'): # 데이터프레임에 있는 열을 사용해 분할 세트 선택\n",
        "    self._target_split = split\n",
        "    self._target_df, self._target_size = self._lookup_dict[split]\n",
        "\n",
        "  def __len__(self):\n",
        "    return self._target_size\n",
        "\n",
        "  def __getitem__(self, index): # 파이토치 데이터셋의 주요 진입 메서드\n",
        "                                # Vectorizer을 사용해 문맥(왼쪽과 오른쪽 윈도)을 벡터로 변환. 타깃(윈도 가운데 단어)은 Vocabulary를 사용해 정수로 변환\n",
        "                                # index (int) : 데이터 포인트의 인덱스\n",
        "                                # 반환값 : 데이터 포인트의 특성(x_data)과 레이블(y_target)로 이루어진 딕셔너리\n",
        "      row = self._target_df.iloc[index]\n",
        "\n",
        "      context_vector = \\\n",
        "          self._vectorizer.vectorize(row.context, self._max_seq_length)\n",
        "      target_index = self._vectorizer.cbow_vocab.lookup_token(row.target)\n",
        "\n",
        "      return {'x_data': context_vector,\n",
        "              'y_target': target_index}\n",
        "\n",
        "  def get_num_batches(self, batch_size): # 배치 크기가 주어지면 데이터셋으로 만들 수 있는 배치 개수 반환                                      \n",
        "      return len(self) // batch_size\n",
        "    \n",
        "  def generate_batches(dataset, batch_size, shuffle=True, # 파이토치 DataLoader를 감싸고 있는 제너레이터 함수\n",
        "                     drop_last=True, device=\"cpu\"):     # 각 텐서를 지정된 장치로 이동\n",
        "    dataloader = DataLoader(dataset=dataset, batch_size=batch_size,\n",
        "                            shuffle=shuffle, drop_last=drop_last)\n",
        "\n",
        "    for data_dict in dataloader:\n",
        "        out_data_dict = {}\n",
        "        for name, tensor in data_dict.items():\n",
        "            out_data_dict[name] = data_dict[name].to(device)\n",
        "        yield out_data_dict"
      ],
      "metadata": {
        "id": "T-I3_YoT9uXg"
      },
      "execution_count": 102,
      "outputs": []
    },
    {
      "cell_type": "code",
      "source": [
        "class CBOWClassifier(nn.Module): # Embedding 층을 사용해 문맥의 단어를 나타내는 인덱스를 각 단어에 대한 벡터로 만듦\n",
        "                                 # 전반적인 문맥을 감지하도록 벡터를 결합\n",
        "                                 # Linear 층에서 문맥 벡터를 사용해 예측 백터를 계산. 이 예측 벡터는 전체 어휘 사전에 대한 확률 분포 \n",
        "    def __init__(self, vocabulary_size, embedding_size, padding_idx=0): # vocabulary_size (int): 어휘 사전 크기, 임베딩 개수와 예측 벡터 크기를 결정\n",
        "                                                                        # embedding_size (int): 임베딩 크기\n",
        "                                                                        # padding_idx (int): 기본값 0; 임베딩은 이 인덱스를 사용하지 않음. 데이터 포인트 길이가 모두 같지 않을 때 Embedding층에 패딩하는 데 사용.\n",
        "                                                                        #                              해당 인덱스에 상응하는 벡터와 그레이디언트를 모두 0으로 만듦\n",
        "        super(CBOWClassifier, self).__init__()\n",
        "        \n",
        "        self.embedding =  nn.Embedding(num_embeddings=vocabulary_size, \n",
        "                                       embedding_dim=embedding_size,\n",
        "                                       padding_idx=padding_idx)\n",
        "        self.fc1 = nn.Linear(in_features=embedding_size,\n",
        "                             out_features=vocabulary_size)\n",
        "\n",
        "    def forward(self, x_in, apply_softmax=False): # 분류기의 정방향 계산\n",
        "                                                  # x_in (torch.Tensor): 입력 데이터 텐서. x_in.shape는 (batch, input_dim)\n",
        "                                                  # apply_softmax (bool): 소프트맥스 활성화 함수를 위한 플래그. 크로스-엔트로피 손실을 사용하려면 False로 지정\n",
        "                                                  # 반환값 결과 텐서. tensor.shape은 (batch, output_dim)\n",
        "        x_embedded_sum = F.dropout(self.embedding(x_in).sum(dim=1), 0.3)\n",
        "        y_out = self.fc1(x_embedded_sum)\n",
        "        \n",
        "        if apply_softmax:\n",
        "            y_out = F.softmax(y_out, dim=1)\n",
        "            \n",
        "        return y_out"
      ],
      "metadata": {
        "id": "159L31EOBgR4"
      },
      "execution_count": 103,
      "outputs": []
    },
    {
      "cell_type": "code",
      "source": [
        "def make_train_state(args):\n",
        "    return {'stop_early': False,\n",
        "            'early_stopping_step': 0,\n",
        "            'early_stopping_best_val': 1e8,\n",
        "            'learning_rate': args.learning_rate,\n",
        "            'epoch_index': 0,\n",
        "            'train_loss': [],\n",
        "            'train_acc': [],\n",
        "            'val_loss': [],\n",
        "            'val_acc': [],\n",
        "            'test_loss': -1,\n",
        "            'test_acc': -1,\n",
        "            'model_filename': args.model_state_file}\n",
        "\n",
        "def update_train_state(args, model, train_state): # 훈련 상태 업데이트\n",
        "                                                  # args: 메인 매개변수\n",
        "                                                  # model: 훈련할 모델\n",
        "                                                  # train_state: 훈련 상태를 담은 딕셔너리\n",
        "                                                  # 반환값 : 새로운 훈련 상태\n",
        "\n",
        "    # 적어도 한 번 모델을 저장\n",
        "    if train_state['epoch_index'] == 0:\n",
        "        torch.save(model.state_dict(), train_state['model_filename'])\n",
        "        train_state['stop_early'] = False\n",
        "\n",
        "    # 성능이 향상되면 모델을 저장\n",
        "    elif train_state['epoch_index'] >= 1:\n",
        "        loss_tm1, loss_t = train_state['val_loss'][-2:]\n",
        "\n",
        "        # 손실이 나빠지면\n",
        "        if loss_t >= train_state['early_stopping_best_val']:\n",
        "            # 조기 종료 단계 업데이트\n",
        "            train_state['early_stopping_step'] += 1\n",
        "        # 손실이 감소하면\n",
        "        else:\n",
        "            # 최상의 모델 저장\n",
        "            if loss_t < train_state['early_stopping_best_val']:\n",
        "                torch.save(model.state_dict(), train_state['model_filename'])\n",
        "\n",
        "            # 조기 종료 단계 재설정\n",
        "            train_state['early_stopping_step'] = 0\n",
        "\n",
        "        # 조기 종료 여부 확인\n",
        "        train_state['stop_early'] = \\\n",
        "            train_state['early_stopping_step'] >= args.early_stopping_criteria\n",
        "\n",
        "    return train_state\n",
        "\n",
        "def compute_accuracy(y_pred, y_target):\n",
        "    _, y_pred_indices = y_pred.max(dim=1)\n",
        "    n_correct = torch.eq(y_pred_indices, y_target).sum().item()\n",
        "    return n_correct / len(y_pred_indices) * 100"
      ],
      "metadata": {
        "id": "Ct-NnhcpB_Z8"
      },
      "execution_count": 104,
      "outputs": []
    },
    {
      "cell_type": "code",
      "source": [
        "def set_seed_everywhere(seed, cuda):\n",
        "    np.random.seed(seed)\n",
        "    torch.manual_seed(seed)\n",
        "    if cuda:\n",
        "        torch.cuda.manual_seed_all(seed)\n",
        "\n",
        "def handle_dirs(dirpath):\n",
        "    if not os.path.exists(dirpath):\n",
        "        os.makedirs(dirpath)"
      ],
      "metadata": {
        "id": "cb9Vvh2sCNGO"
      },
      "execution_count": 105,
      "outputs": []
    },
    {
      "cell_type": "code",
      "source": [
        "args = Namespace(\n",
        "    # 날짜와 경로 정보\n",
        "    cbow_csv=\"data/books/frankenstein_with_splits.csv\",\n",
        "    vectorizer_file=\"vectorizer.json\",\n",
        "    model_state_file=\"model.pth\",\n",
        "    save_dir=\"model_storage/ch5/cbow\",\n",
        "    # 모델 하이퍼파라미터\n",
        "    embedding_size=50,\n",
        "    # 훈련 하이퍼파라미터\n",
        "    seed=1337,\n",
        "    num_epochs=100,\n",
        "    learning_rate=0.0001,\n",
        "    batch_size=32,\n",
        "    early_stopping_criteria=5,\n",
        "    # 실행 옵션\n",
        "    cuda=True,\n",
        "    catch_keyboard_interrupt=True,\n",
        "    reload_from_files=False,\n",
        "    expand_filepaths_to_save_dir=True\n",
        ")\n",
        "\n",
        "if args.expand_filepaths_to_save_dir:\n",
        "    args.vectorizer_file = os.path.join(args.save_dir,\n",
        "                                        args.vectorizer_file)\n",
        "\n",
        "    args.model_state_file = os.path.join(args.save_dir,\n",
        "                                         args.model_state_file)\n",
        "    \n",
        "    print(\"파일 경로: \")\n",
        "    print(\"\\t{}\".format(args.vectorizer_file))\n",
        "    print(\"\\t{}\".format(args.model_state_file))\n",
        "    \n",
        "\n",
        "# CUDA 체크\n",
        "if not torch.cuda.is_available():\n",
        "    args.cuda = False\n",
        "\n",
        "args.device = torch.device(\"cuda\" if args.cuda else \"cpu\")\n",
        "    \n",
        "print(\"CUDA 사용여부: {}\".format(args.cuda))\n",
        "\n",
        "# 재현성을 위해 시드 설정\n",
        "set_seed_everywhere(args.seed, args.cuda)\n",
        "\n",
        "# 디렉토리 처리\n",
        "handle_dirs(args.save_dir)"
      ],
      "metadata": {
        "colab": {
          "base_uri": "https://localhost:8080/"
        },
        "id": "md_3RdWJCOVH",
        "outputId": "85a462fa-f71b-4d63-9002-3282d8e9eba9"
      },
      "execution_count": 106,
      "outputs": [
        {
          "output_type": "stream",
          "name": "stdout",
          "text": [
            "파일 경로: \n",
            "\tmodel_storage/ch5/cbow/vectorizer.json\n",
            "\tmodel_storage/ch5/cbow/model.pth\n",
            "CUDA 사용여부: False\n"
          ]
        }
      ]
    },
    {
      "cell_type": "code",
      "source": [
        "!mkdir data\n",
        "!wget https://git.io/JtX5A -O data/download.py\n",
        "!wget https://git.io/JtX5F -O data/get-all-data.sh\n",
        "!chmod 755 data/get-all-data.sh\n",
        "%cd data\n",
        "!./get-all-data.sh\n",
        "%cd .."
      ],
      "metadata": {
        "colab": {
          "base_uri": "https://localhost:8080/"
        },
        "id": "N1vLFFkfCQDI",
        "outputId": "2e23f3e4-abbb-46c8-fe91-be54df2f6fc7"
      },
      "execution_count": 107,
      "outputs": [
        {
          "output_type": "stream",
          "name": "stdout",
          "text": [
            "mkdir: cannot create directory ‘data’: File exists\n",
            "--2022-09-12 14:36:24--  https://git.io/JtX5A\n",
            "Resolving git.io (git.io)... 140.82.112.21\n",
            "Connecting to git.io (git.io)|140.82.112.21|:443... connected.\n",
            "HTTP request sent, awaiting response... 302 Found\n",
            "Location: https://raw.githubusercontent.com/rickiepark/nlp-with-pytorch/main/chapter_5/5_2_CBOW/data/download.py [following]\n",
            "--2022-09-12 14:36:25--  https://raw.githubusercontent.com/rickiepark/nlp-with-pytorch/main/chapter_5/5_2_CBOW/data/download.py\n",
            "Resolving raw.githubusercontent.com (raw.githubusercontent.com)... 185.199.108.133, 185.199.109.133, 185.199.110.133, ...\n",
            "Connecting to raw.githubusercontent.com (raw.githubusercontent.com)|185.199.108.133|:443... connected.\n",
            "HTTP request sent, awaiting response... 200 OK\n",
            "Length: 1572 (1.5K) [text/plain]\n",
            "Saving to: ‘data/download.py’\n",
            "\n",
            "data/download.py    100%[===================>]   1.54K  --.-KB/s    in 0s      \n",
            "\n",
            "2022-09-12 14:36:26 (18.5 MB/s) - ‘data/download.py’ saved [1572/1572]\n",
            "\n",
            "--2022-09-12 14:36:26--  https://git.io/JtX5F\n",
            "Resolving git.io (git.io)... 140.82.112.21\n",
            "Connecting to git.io (git.io)|140.82.112.21|:443... connected.\n",
            "HTTP request sent, awaiting response... 302 Found\n",
            "Location: https://raw.githubusercontent.com/rickiepark/nlp-with-pytorch/main/chapter_5/5_2_CBOW/data/get-all-data.sh [following]\n",
            "--2022-09-12 14:36:26--  https://raw.githubusercontent.com/rickiepark/nlp-with-pytorch/main/chapter_5/5_2_CBOW/data/get-all-data.sh\n",
            "Resolving raw.githubusercontent.com (raw.githubusercontent.com)... 185.199.108.133, 185.199.109.133, 185.199.110.133, ...\n",
            "Connecting to raw.githubusercontent.com (raw.githubusercontent.com)|185.199.108.133|:443... connected.\n",
            "HTTP request sent, awaiting response... 200 OK\n",
            "Length: 508 [text/plain]\n",
            "Saving to: ‘data/get-all-data.sh’\n",
            "\n",
            "data/get-all-data.s 100%[===================>]     508  --.-KB/s    in 0s      \n",
            "\n",
            "2022-09-12 14:36:27 (22.8 MB/s) - ‘data/get-all-data.sh’ saved [508/508]\n",
            "\n",
            "/content/data\n",
            "/content\n"
          ]
        }
      ]
    },
    {
      "cell_type": "code",
      "source": [
        "if args.reload_from_files:\n",
        "    print(\"데이터셋과 Vectorizer를 로드합니다\")\n",
        "    dataset = CBOWDataset.load_dataset_and_load_vectorizer(args.cbow_csv,\n",
        "                                                           args.vectorizer_file)\n",
        "else:\n",
        "    print(\"데이터셋을 로드하고 Vectorizer를 만듭니다\")\n",
        "    dataset = CBOWDataset.load_dataset_and_make_vectorizer(args.cbow_csv)\n",
        "    dataset.save_vectorizer(args.vectorizer_file)\n",
        "    \n",
        "vectorizer = dataset.get_vectorizer()\n",
        "\n",
        "classifier = CBOWClassifier(vocabulary_size=len(vectorizer.cbow_vocab), \n",
        "                            embedding_size=args.embedding_size)"
      ],
      "metadata": {
        "colab": {
          "base_uri": "https://localhost:8080/"
        },
        "id": "WzMw5mBeCR8A",
        "outputId": "7a55d34c-3c22-45d2-c447-470b3ff487c4"
      },
      "execution_count": 108,
      "outputs": [
        {
          "output_type": "stream",
          "name": "stdout",
          "text": [
            "데이터셋을 로드하고 Vectorizer를 만듭니다\n"
          ]
        }
      ]
    },
    {
      "cell_type": "code",
      "source": [
        "classifier = classifier.to(args.device)\n",
        "    \n",
        "loss_func = nn.CrossEntropyLoss()\n",
        "optimizer = optim.Adam(classifier.parameters(), lr=args.learning_rate)\n",
        "scheduler = optim.lr_scheduler.ReduceLROnPlateau(optimizer=optimizer,\n",
        "                                                 mode='min', factor=0.5,\n",
        "                                                 patience=1)\n",
        "train_state = make_train_state(args)\n",
        "\n",
        "epoch_bar = tqdm.notebook.tqdm(desc='training routine', \n",
        "                               total=args.num_epochs,\n",
        "                               position=0)\n",
        "\n",
        "dataset.set_split('train')\n",
        "train_bar = tqdm.notebook.tqdm(desc='split=train',\n",
        "                               total=dataset.get_num_batches(args.batch_size), \n",
        "                               position=1, \n",
        "                               leave=True)\n",
        "dataset.set_split('val')\n",
        "val_bar = tqdm.notebook.tqdm(desc='split=val',\n",
        "                             total=dataset.get_num_batches(args.batch_size), \n",
        "                             position=1, \n",
        "                             leave=True)\n",
        "\n",
        "try:\n",
        "    for epoch_index in range(args.num_epochs):\n",
        "        train_state['epoch_index'] = epoch_index\n",
        "\n",
        "        # 훈련 세트에 대한 순회\n",
        "\n",
        "        # 훈련 세트와 배치 제너레이터 준비, 손실과 정확도를 0으로 설정\n",
        "        dataset.set_split('train')\n",
        "        batch_generator = generate_batches(dataset, \n",
        "                                           batch_size=args.batch_size, \n",
        "                                           device=args.device)\n",
        "        running_loss = 0.0\n",
        "        running_acc = 0.0\n",
        "        classifier.train()\n",
        "\n",
        "        for batch_index, batch_dict in enumerate(batch_generator):\n",
        "            # 훈련 과정은 5단계\n",
        "            # --------------------------------------\n",
        "            # 단계 1. 그레이디언트 0으로 초기화\n",
        "            optimizer.zero_grad()\n",
        "\n",
        "            # 단계 2. 출력 계산\n",
        "            y_pred = classifier(x_in=batch_dict['x_data'])\n",
        "\n",
        "            # 단계 3. 손실 계산\n",
        "            loss = loss_func(y_pred, batch_dict['y_target'])\n",
        "            loss_t = loss.item()\n",
        "            running_loss += (loss_t - running_loss) / (batch_index + 1)\n",
        "\n",
        "            # 단계 4. 손실을 사용해 그레이디언트 계산\n",
        "            loss.backward()\n",
        "\n",
        "            # 단계 5. 옵티마이저로 가중치 업데이트\n",
        "            optimizer.step()\n",
        "            # -----------------------------------------\n",
        "            \n",
        "            # 정확도 계산\n",
        "            acc_t = compute_accuracy(y_pred, batch_dict['y_target'])\n",
        "            running_acc += (acc_t - running_acc) / (batch_index + 1)\n",
        "\n",
        "            # 진행 바 업데이트\n",
        "            train_bar.set_postfix(loss=running_loss, acc=running_acc, \n",
        "                            epoch=epoch_index)\n",
        "            train_bar.update()\n",
        "\n",
        "        train_state['train_loss'].append(running_loss)\n",
        "        train_state['train_acc'].append(running_acc)\n",
        "\n",
        "        # 검증 세트에 대한 순회\n",
        "\n",
        "        # 검증 세트와 배치 제너레이터 준비, 손실과 정확도를 0으로 설정\n",
        "        dataset.set_split('val')\n",
        "        batch_generator = generate_batches(dataset, \n",
        "                                           batch_size=args.batch_size, \n",
        "                                           device=args.device)\n",
        "        running_loss = 0.\n",
        "        running_acc = 0.\n",
        "        classifier.eval()\n",
        "\n",
        "        for batch_index, batch_dict in enumerate(batch_generator):\n",
        "\n",
        "            # 단계 1. 출력 계산\n",
        "            y_pred =  classifier(x_in=batch_dict['x_data'])\n",
        "\n",
        "            # 단계 2. 손실 계산\n",
        "            loss = loss_func(y_pred, batch_dict['y_target'])\n",
        "            loss_t = loss.item()\n",
        "            running_loss += (loss_t - running_loss) / (batch_index + 1)\n",
        "\n",
        "            # 단계 3. 정확도 계산\n",
        "            acc_t = compute_accuracy(y_pred, batch_dict['y_target'])\n",
        "            running_acc += (acc_t - running_acc) / (batch_index + 1)\n",
        "            val_bar.set_postfix(loss=running_loss, acc=running_acc, \n",
        "                            epoch=epoch_index)\n",
        "            val_bar.update()\n",
        "\n",
        "        train_state['val_loss'].append(running_loss)\n",
        "        train_state['val_acc'].append(running_acc)\n",
        "\n",
        "        train_state = update_train_state(args=args, model=classifier,\n",
        "                                         train_state=train_state)\n",
        "\n",
        "        scheduler.step(train_state['val_loss'][-1])\n",
        "\n",
        "        if train_state['stop_early']:\n",
        "            break\n",
        "\n",
        "        train_bar.n = 0\n",
        "        val_bar.n = 0\n",
        "        epoch_bar.update()\n",
        "except KeyboardInterrupt:\n",
        "    print(\"Exiting loop\")"
      ],
      "metadata": {
        "colab": {
          "base_uri": "https://localhost:8080/",
          "height": 113,
          "referenced_widgets": [
            "5bc365fa1679496999de9c91e6d4cf3c",
            "28b208d02fc34e049250e9b00f0fcc19",
            "7e9c1cb844094cf5a5c3e94197db6cfc",
            "29a9e20ebcfd45babdfeaa61b6733dc6",
            "d333dd3f3c8a4437b2d3f8a43005bdcb",
            "547925ba55a34ae89a1c243bae5bf1af",
            "f7bfd4b42f524d5d9ceb9bee7df261b1",
            "e300732183874a9793ce97247b1660af",
            "b9aa623a82ff49bdb12c7fa1252ef570",
            "8b2a5d6920d74dff97abbc0fd5b04977",
            "e0a040293b734a92982d55060f05523b",
            "7d5adc735e104d0e97d4963b72d94d8e",
            "24bda70ab5e7485999c45748e1d3da27",
            "b59a6710206f470894f2b458f764ff6d",
            "95fe9f2a15614dde8b822058222571f7",
            "fa506aaec05d4935bdb3c7e7b3499ae4",
            "c28b1dd34017428cb528886b8e893341",
            "32e5dc25400c47bfbe8c40450a8e6eaa",
            "164b14c0472742069ccdf0b5af89d770",
            "c0852fe53b9b45a38013cce140e1f033",
            "44c485e931404bc3b636b0016f29a364",
            "4d2535b09dfc43a5adaa7241cedc87f5",
            "b6c0b6b59e084792b3757309213cc833",
            "df9cdedce0394f34b0015c319a4953ef",
            "fc8fc49bda4644ed9a69c27d94b2142a",
            "cf5dddaa9c8e4a8885347b4dba7baa49",
            "f075bd99ce664943b8b424a7f9eaa493",
            "c87c1c60cf584ee2a6565e9a514db2f9",
            "01f2b0f849d749fe9c058cdc441fd55a",
            "70d5924175ab4e78878d5fc6e5be4398",
            "b73a7da6661949c68a1096805a9f5d5f",
            "2ea5b9db5d2d486282a749faec1e6b41",
            "58d9bcc37b4d460488464dc6e5c8f9ee"
          ]
        },
        "id": "dk16Qmt9CUrx",
        "outputId": "82a5b24f-f530-44a9-d383-7a91be794005"
      },
      "execution_count": 109,
      "outputs": [
        {
          "output_type": "display_data",
          "data": {
            "text/plain": [
              "training routine:   0%|          | 0/100 [00:00<?, ?it/s]"
            ],
            "application/vnd.jupyter.widget-view+json": {
              "version_major": 2,
              "version_minor": 0,
              "model_id": "5bc365fa1679496999de9c91e6d4cf3c"
            }
          },
          "metadata": {}
        },
        {
          "output_type": "display_data",
          "data": {
            "text/plain": [
              "split=train:   0%|          | 0/1984 [00:00<?, ?it/s]"
            ],
            "application/vnd.jupyter.widget-view+json": {
              "version_major": 2,
              "version_minor": 0,
              "model_id": "7d5adc735e104d0e97d4963b72d94d8e"
            }
          },
          "metadata": {}
        },
        {
          "output_type": "display_data",
          "data": {
            "text/plain": [
              "split=val:   0%|          | 0/425 [00:00<?, ?it/s]"
            ],
            "application/vnd.jupyter.widget-view+json": {
              "version_major": 2,
              "version_minor": 0,
              "model_id": "b6c0b6b59e084792b3757309213cc833"
            }
          },
          "metadata": {}
        }
      ]
    },
    {
      "cell_type": "code",
      "source": [
        "# 가장 좋은 모델을 사용해 테스트 세트의 손실과 정확도를 계산\n",
        "classifier.load_state_dict(torch.load(train_state['model_filename']))\n",
        "classifier = classifier.to(args.device)\n",
        "loss_func = nn.CrossEntropyLoss()\n",
        "\n",
        "dataset.set_split('test')\n",
        "batch_generator = generate_batches(dataset, \n",
        "                                   batch_size=args.batch_size, \n",
        "                                   device=args.device)\n",
        "running_loss = 0.\n",
        "running_acc = 0.\n",
        "classifier.eval()\n",
        "\n",
        "for batch_index, batch_dict in enumerate(batch_generator):\n",
        "    # 출력 계산\n",
        "    y_pred =  classifier(x_in=batch_dict['x_data'])\n",
        "    \n",
        "    # 손실 계산\n",
        "    loss = loss_func(y_pred, batch_dict['y_target'])\n",
        "    loss_t = loss.item()\n",
        "    running_loss += (loss_t - running_loss) / (batch_index + 1)\n",
        "\n",
        "    # 정확도 계산\n",
        "    acc_t = compute_accuracy(y_pred, batch_dict['y_target'])\n",
        "    running_acc += (acc_t - running_acc) / (batch_index + 1)\n",
        "\n",
        "train_state['test_loss'] = running_loss\n",
        "train_state['test_acc'] = running_acc"
      ],
      "metadata": {
        "id": "s53hFbKoC_hJ"
      },
      "execution_count": 110,
      "outputs": []
    },
    {
      "cell_type": "code",
      "source": [
        "print(\"테스트 손실: {};\".format(train_state['test_loss']))\n",
        "print(\"테스트 정확도: {}\".format(train_state['test_acc']))"
      ],
      "metadata": {
        "colab": {
          "base_uri": "https://localhost:8080/"
        },
        "id": "S7E1ulY1DBVO",
        "outputId": "0df9b1bd-8f1a-463b-b59e-d63c93c025f4"
      },
      "execution_count": 111,
      "outputs": [
        {
          "output_type": "stream",
          "name": "stdout",
          "text": [
            "테스트 손실: 7.672896379583021;\n",
            "테스트 정확도: 13.007352941176478\n"
          ]
        }
      ]
    },
    {
      "cell_type": "code",
      "source": [
        "def pretty_print(results):\n",
        "    \"\"\"\n",
        "    임베딩 결과를 출력\n",
        "    \"\"\"\n",
        "    for item in results:\n",
        "        print (\"...[%.2f] - %s\"%(item[1], item[0]))\n",
        "\n",
        "def get_closest(target_word, word_to_idx, embeddings, n=5):\n",
        "    \"\"\"\n",
        "    n개의 최근접 단어를 찾습니다.\n",
        "    \"\"\"\n",
        "\n",
        "    # 다른 모든 단어까지 거리를 계산\n",
        "    word_embedding = embeddings[word_to_idx[target_word.lower()]]\n",
        "    distances = []\n",
        "    for word, index in word_to_idx.items():\n",
        "        if word == \"<MASK>\" or word == target_word:\n",
        "            continue\n",
        "        distances.append((word, torch.dist(word_embedding, embeddings[index])))\n",
        "    \n",
        "    results = sorted(distances, key=lambda x: x[1])[1:n+2]\n",
        "    return results"
      ],
      "metadata": {
        "id": "y1pHq6FLDCjI"
      },
      "execution_count": 112,
      "outputs": []
    },
    {
      "cell_type": "code",
      "source": [
        "word = input('단어를 입력해 주세요: ')\n",
        "embeddings = classifier.embedding.weight.data\n",
        "word_to_idx = vectorizer.cbow_vocab._token_to_idx\n",
        "pretty_print(get_closest(word, word_to_idx, embeddings, n=5))"
      ],
      "metadata": {
        "colab": {
          "base_uri": "https://localhost:8080/"
        },
        "id": "4c4SA97MDD-w",
        "outputId": "ec8a1492-1bdf-4598-b687-96a2c86b5d82"
      },
      "execution_count": 113,
      "outputs": [
        {
          "output_type": "stream",
          "name": "stdout",
          "text": [
            "단어를 입력해 주세요: Bat\n",
            "...[7.11] - turkey\n",
            "...[7.40] - changes\n",
            "...[7.43] - regret\n",
            "...[7.45] - postponed\n",
            "...[7.47] - happening\n",
            "...[7.55] - ended\n"
          ]
        }
      ]
    },
    {
      "cell_type": "code",
      "source": [
        "target_words = ['frankenstein', 'monster', 'science', 'sickness', 'lonely', 'happy']\n",
        "\n",
        "embeddings = classifier.embedding.weight.data\n",
        "word_to_idx = vectorizer.cbow_vocab._token_to_idx\n",
        "\n",
        "for target_word in target_words: \n",
        "    print(f\"======={target_word}=======\")\n",
        "    if target_word not in word_to_idx:\n",
        "        print(\"Not in vocabulary\")\n",
        "        continue\n",
        "    pretty_print(get_closest(target_word, word_to_idx, embeddings, n=5))"
      ],
      "metadata": {
        "colab": {
          "base_uri": "https://localhost:8080/"
        },
        "id": "XUkS6CXHDFQR",
        "outputId": "6ccb7141-d096-443e-b258-f2d0499a1e4d"
      },
      "execution_count": 114,
      "outputs": [
        {
          "output_type": "stream",
          "name": "stdout",
          "text": [
            "=======frankenstein=======\n",
            "...[7.24] - irradiated\n",
            "...[7.68] - enslaved\n",
            "...[7.71] - men\n",
            "...[7.75] - gush\n",
            "...[7.76] - mode\n",
            "...[7.76] - austria\n",
            "=======monster=======\n",
            "...[7.57] - cares\n",
            "...[7.70] - griefs\n",
            "...[7.74] - saw\n",
            "...[7.78] - confused\n",
            "...[7.81] - without\n",
            "...[7.82] - truly\n",
            "=======science=======\n",
            "...[7.02] - mutual\n",
            "...[7.02] - impression\n",
            "...[7.06] - mist\n",
            "...[7.16] - swelling\n",
            "...[7.24] - darkened\n",
            "...[7.30] - tempted\n",
            "=======sickness=======\n",
            "...[6.21] - while\n",
            "...[6.59] - awoke\n",
            "...[6.60] - foundations\n",
            "...[6.66] - consoles\n",
            "...[6.69] - literally\n",
            "...[6.69] - know\n",
            "=======lonely=======\n",
            "...[6.77] - excessive\n",
            "...[6.85] - moonlight\n",
            "...[6.90] - ought\n",
            "...[7.10] - bed\n",
            "...[7.12] - three\n",
            "...[7.20] - superhuman\n",
            "=======happy=======\n",
            "...[6.33] - bottom\n",
            "...[6.42] - penetrated\n",
            "...[6.44] - wand\n",
            "...[6.52] - chivalry\n",
            "...[6.52] - joys\n",
            "...[6.53] - altered\n"
          ]
        }
      ]
    }
  ]
}